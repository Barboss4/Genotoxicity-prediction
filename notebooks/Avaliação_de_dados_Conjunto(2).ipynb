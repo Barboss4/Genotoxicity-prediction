{
  "cells": [
    {
      "cell_type": "code",
      "source": [
        "!pip uninstall -y numpy\n",
        "!pip install numpy==1.26.4 --no-cache-dir --force-reinstall\n",
        "import os\n",
        "os.kill(os.getpid(), 9)  # Isso reinicia o kernel do Colab\n"
      ],
      "metadata": {
        "colab": {
          "base_uri": "https://localhost:8080/"
        },
        "id": "L2eFJsDHkGDW",
        "outputId": "9295ba2d-9630-458e-9d49-f3a9e0c62f9a"
      },
      "execution_count": null,
      "outputs": [
        {
          "output_type": "stream",
          "name": "stdout",
          "text": [
            "Found existing installation: numpy 2.0.2\n",
            "Uninstalling numpy-2.0.2:\n",
            "  Successfully uninstalled numpy-2.0.2\n",
            "Collecting numpy==1.26.4\n",
            "  Downloading numpy-1.26.4-cp311-cp311-manylinux_2_17_x86_64.manylinux2014_x86_64.whl.metadata (61 kB)\n",
            "\u001b[2K     \u001b[90m━━━━━━━━━━━━━━━━━━━━━━━━━━━━━━━━━━━━━━━━\u001b[0m \u001b[32m61.0/61.0 kB\u001b[0m \u001b[31m9.2 MB/s\u001b[0m eta \u001b[36m0:00:00\u001b[0m\n",
            "\u001b[?25hDownloading numpy-1.26.4-cp311-cp311-manylinux_2_17_x86_64.manylinux2014_x86_64.whl (18.3 MB)\n",
            "\u001b[2K   \u001b[90m━━━━━━━━━━━━━━━━━━━━━━━━━━━━━━━━━━━━━━━━\u001b[0m \u001b[32m18.3/18.3 MB\u001b[0m \u001b[31m148.9 MB/s\u001b[0m eta \u001b[36m0:00:00\u001b[0m\n",
            "\u001b[?25hInstalling collected packages: numpy\n",
            "Successfully installed numpy-1.26.4\n"
          ]
        }
      ]
    },
    {
      "cell_type": "code",
      "execution_count": null,
      "metadata": {
        "id": "dZUubYC2cnTF"
      },
      "outputs": [],
      "source": [
        "!pip install rdkit-pypi\n",
        "!pip install lazypredict scikit-learn"
      ]
    },
    {
      "cell_type": "markdown",
      "metadata": {
        "id": "oetpbbhf1wlm"
      },
      "source": [
        "# Limpeza de dados"
      ]
    },
    {
      "cell_type": "code",
      "execution_count": 2,
      "metadata": {
        "colab": {
          "base_uri": "https://localhost:8080/"
        },
        "id": "nAyDvSogcv-z",
        "outputId": "8abd0e7f-171a-480c-9be7-aac68d8f9a7f"
      },
      "outputs": [
        {
          "output_type": "execute_result",
          "data": {
            "text/plain": [
              "(8195, 5)"
            ]
          },
          "metadata": {},
          "execution_count": 2
        }
      ],
      "source": [
        "import pandas as pd\n",
        "\n",
        "df = pd.read_csv('/content/Dataset Both.csv')\n",
        "df.shape"
      ]
    },
    {
      "cell_type": "code",
      "source": [
        "from rdkit import Chem\n",
        "\n",
        "def smiles_valido(smiles):\n",
        "    \"\"\"\n",
        "    Verifica se um SMILES é válido.\n",
        "\n",
        "    Parâmetros:\n",
        "        smiles (str): String do SMILES.\n",
        "\n",
        "    Retorna:\n",
        "        bool: True se o SMILES é válido, False caso contrário.\n",
        "    \"\"\"\n",
        "    if not isinstance(smiles, str) or smiles.strip() == \"\":\n",
        "        return False\n",
        "    try:\n",
        "        mol = Chem.MolFromSmiles(smiles)\n",
        "        return mol is not None\n",
        "    except:\n",
        "        return False\n"
      ],
      "metadata": {
        "id": "KLjYO4gghIlO"
      },
      "execution_count": 3,
      "outputs": []
    },
    {
      "cell_type": "code",
      "source": [
        "df['SMILES_valido'] = df['SMILES'].apply(smiles_valido)\n",
        "df['SMILES_valido'].value_counts()"
      ],
      "metadata": {
        "colab": {
          "base_uri": "https://localhost:8080/",
          "height": 254
        },
        "id": "I-0wj2iShqJ-",
        "outputId": "66f32dfd-613f-40b0-dc05-fd29798223a8"
      },
      "execution_count": 4,
      "outputs": [
        {
          "output_type": "stream",
          "name": "stderr",
          "text": [
            "[17:06:34] WARNING: not removing hydrogen atom without neighbors\n",
            "[17:06:34] WARNING: not removing hydrogen atom without neighbors\n",
            "[17:06:35] WARNING: not removing hydrogen atom without neighbors\n",
            "[17:06:35] WARNING: not removing hydrogen atom without neighbors\n",
            "[17:06:35] WARNING: not removing hydrogen atom without neighbors\n",
            "[17:06:35] WARNING: not removing hydrogen atom without neighbors\n"
          ]
        },
        {
          "output_type": "execute_result",
          "data": {
            "text/plain": [
              "SMILES_valido\n",
              "True    8195\n",
              "Name: count, dtype: int64"
            ],
            "text/html": [
              "<div>\n",
              "<style scoped>\n",
              "    .dataframe tbody tr th:only-of-type {\n",
              "        vertical-align: middle;\n",
              "    }\n",
              "\n",
              "    .dataframe tbody tr th {\n",
              "        vertical-align: top;\n",
              "    }\n",
              "\n",
              "    .dataframe thead th {\n",
              "        text-align: right;\n",
              "    }\n",
              "</style>\n",
              "<table border=\"1\" class=\"dataframe\">\n",
              "  <thead>\n",
              "    <tr style=\"text-align: right;\">\n",
              "      <th></th>\n",
              "      <th>count</th>\n",
              "    </tr>\n",
              "    <tr>\n",
              "      <th>SMILES_valido</th>\n",
              "      <th></th>\n",
              "    </tr>\n",
              "  </thead>\n",
              "  <tbody>\n",
              "    <tr>\n",
              "      <th>True</th>\n",
              "      <td>8195</td>\n",
              "    </tr>\n",
              "  </tbody>\n",
              "</table>\n",
              "</div><br><label><b>dtype:</b> int64</label>"
            ]
          },
          "metadata": {},
          "execution_count": 4
        }
      ]
    },
    {
      "cell_type": "code",
      "execution_count": 5,
      "metadata": {
        "colab": {
          "base_uri": "https://localhost:8080/"
        },
        "id": "PXv5XuzWcPRs",
        "outputId": "ab69730f-b2fb-4055-f8a8-c75487ca1c12"
      },
      "outputs": [
        {
          "output_type": "execute_result",
          "data": {
            "text/plain": [
              "(8195, 3)"
            ]
          },
          "metadata": {},
          "execution_count": 5
        }
      ],
      "source": [
        "df.drop(columns=['Chemical', 'Identificador', 'SMILES_valido'], inplace=True)\n",
        "df.shape"
      ]
    },
    {
      "cell_type": "code",
      "execution_count": 6,
      "metadata": {
        "colab": {
          "base_uri": "https://localhost:8080/"
        },
        "id": "zH48sZ4Yd-NV",
        "outputId": "39078867-d975-479c-9d31-a2181d21a6dd"
      },
      "outputs": [
        {
          "output_type": "execute_result",
          "data": {
            "text/plain": [
              "(7865, 3)"
            ]
          },
          "metadata": {},
          "execution_count": 6
        }
      ],
      "source": [
        "df.drop_duplicates(inplace=True)\n",
        "df.head()\n",
        "df.shape"
      ]
    },
    {
      "cell_type": "code",
      "execution_count": 7,
      "metadata": {
        "id": "3q4iPnzjyhl4"
      },
      "outputs": [],
      "source": [
        "df['Results'] = df['Results'].str.lower()\n",
        "df['Type'] = df['Type'].str.lower()"
      ]
    },
    {
      "cell_type": "code",
      "execution_count": 8,
      "metadata": {
        "colab": {
          "base_uri": "https://localhost:8080/"
        },
        "id": "TfopRKVLvXmd",
        "outputId": "09db042f-febc-40c9-c60b-0993ad8ca5ee"
      },
      "outputs": [
        {
          "output_type": "execute_result",
          "data": {
            "text/plain": [
              "(6717, 3)"
            ]
          },
          "metadata": {},
          "execution_count": 8
        }
      ],
      "source": [
        "df.drop_duplicates(inplace=True)\n",
        "df.shape"
      ]
    },
    {
      "cell_type": "code",
      "execution_count": 9,
      "metadata": {
        "id": "uJrD2XTz7ZmQ"
      },
      "outputs": [],
      "source": [
        "# Mapear os valores para 1 (positivos) e 0 (negativos)\n",
        "mapping = {\"positive\": 1, \"negative\": 0, \"ambiguous\": None, \"inconclusive\": None}\n",
        "df[\"Results\"] = df[\"Results\"].map(mapping)\n",
        "\n",
        "# Remover valores nulos\n",
        "df = df.dropna()"
      ]
    },
    {
      "cell_type": "code",
      "execution_count": 10,
      "metadata": {
        "colab": {
          "base_uri": "https://localhost:8080/"
        },
        "id": "Z4jJlpMY8K6e",
        "outputId": "0a08fb5c-3dd4-42b7-adb4-bd538da11cac"
      },
      "outputs": [
        {
          "output_type": "execute_result",
          "data": {
            "text/plain": [
              "(6717, 3)"
            ]
          },
          "metadata": {},
          "execution_count": 10
        }
      ],
      "source": [
        "df.shape"
      ]
    },
    {
      "cell_type": "code",
      "execution_count": 11,
      "metadata": {
        "id": "kqEIU8yvwtlX"
      },
      "outputs": [],
      "source": [
        "# --- Passo 1 ---\n",
        "# Para cada SMILES, identificar quais possuem mais de um tipo\n",
        "smiles_mult_type = df.groupby(\"SMILES\")[\"Type\"].nunique()\n",
        "smiles_mult_type = smiles_mult_type[smiles_mult_type > 1].index\n",
        "\n",
        "# Para os SMILES que possuem mais de um 'Type', manter somente as linhas onde 'Type' é 'in vivo'\n",
        "df_filtrado = df[~(df[\"SMILES\"].isin(smiles_mult_type) & (df[\"Type\"] != \"in vivo\"))]\n",
        "\n",
        "# Remover duplicatas, se existirem\n",
        "df_filtrado = df_filtrado.drop_duplicates()"
      ]
    },
    {
      "cell_type": "code",
      "execution_count": 12,
      "metadata": {
        "colab": {
          "base_uri": "https://localhost:8080/"
        },
        "id": "arlR23Xby52M",
        "outputId": "082c3724-5fd0-438c-ff0f-ecb9af32e1ec"
      },
      "outputs": [
        {
          "output_type": "execute_result",
          "data": {
            "text/plain": [
              "(5290, 3)"
            ]
          },
          "metadata": {},
          "execution_count": 12
        }
      ],
      "source": [
        "df_filtrado.shape"
      ]
    },
    {
      "cell_type": "code",
      "execution_count": 13,
      "metadata": {
        "id": "EG6BHGqAyiFh"
      },
      "outputs": [],
      "source": [
        "# --- Passo 2 ---\n",
        "# Agora, identificar quais SMILES (no df filtrado) possuem mais de um 'Results'\n",
        "smiles_mult_result = df_filtrado.groupby(\"SMILES\")[\"Results\"].nunique()\n",
        "smiles_mult_result = smiles_mult_result[smiles_mult_result > 1].index\n",
        "\n",
        "# Remover os SMILES que possuem mais de um resultado\n",
        "df_final = df_filtrado[~df_filtrado[\"SMILES\"].isin(smiles_mult_result)]"
      ]
    },
    {
      "cell_type": "code",
      "execution_count": 14,
      "metadata": {
        "colab": {
          "base_uri": "https://localhost:8080/",
          "height": 178
        },
        "id": "bd6K9OmcwtU8",
        "outputId": "f8bcb2db-d266-4416-c998-d6bbe7441346"
      },
      "outputs": [
        {
          "output_type": "execute_result",
          "data": {
            "text/plain": [
              "Results\n",
              "1.0    1987\n",
              "0.0    1899\n",
              "Name: count, dtype: int64"
            ],
            "text/html": [
              "<div>\n",
              "<style scoped>\n",
              "    .dataframe tbody tr th:only-of-type {\n",
              "        vertical-align: middle;\n",
              "    }\n",
              "\n",
              "    .dataframe tbody tr th {\n",
              "        vertical-align: top;\n",
              "    }\n",
              "\n",
              "    .dataframe thead th {\n",
              "        text-align: right;\n",
              "    }\n",
              "</style>\n",
              "<table border=\"1\" class=\"dataframe\">\n",
              "  <thead>\n",
              "    <tr style=\"text-align: right;\">\n",
              "      <th></th>\n",
              "      <th>count</th>\n",
              "    </tr>\n",
              "    <tr>\n",
              "      <th>Results</th>\n",
              "      <th></th>\n",
              "    </tr>\n",
              "  </thead>\n",
              "  <tbody>\n",
              "    <tr>\n",
              "      <th>1.0</th>\n",
              "      <td>1987</td>\n",
              "    </tr>\n",
              "    <tr>\n",
              "      <th>0.0</th>\n",
              "      <td>1899</td>\n",
              "    </tr>\n",
              "  </tbody>\n",
              "</table>\n",
              "</div><br><label><b>dtype:</b> int64</label>"
            ]
          },
          "metadata": {},
          "execution_count": 14
        }
      ],
      "source": [
        "df_final['Results'].value_counts()"
      ]
    },
    {
      "cell_type": "code",
      "execution_count": 15,
      "metadata": {
        "id": "K7yuWMnh0WP9"
      },
      "outputs": [],
      "source": [
        "df_final = df_final.drop(columns='Type')"
      ]
    },
    {
      "cell_type": "markdown",
      "metadata": {
        "id": "xAjhoPqaR-0I"
      },
      "source": [
        "# Estrutura de alerta"
      ]
    },
    {
      "cell_type": "code",
      "execution_count": 17,
      "metadata": {
        "id": "nf6TfH3TSB7c"
      },
      "outputs": [],
      "source": [
        "from rdkit import Chem\n",
        "from tqdm import tqdm\n",
        "from rdkit.Chem import Descriptors,AllChem\n",
        "from rdkit import RDLogger\n",
        "import re\n",
        "\n",
        "RDLogger.DisableLog('rdApp.*')\n",
        "\n",
        "# Função auxiliar para neutralizar SMILES com cargas\n",
        "def neutralizar_smiles(smiles):\n",
        "    \"\"\"\n",
        "    Remove cargas formais de átomos representados como [Na+], [Fe+3], [Cl-], etc., convertendo para [Na], [Fe], [Cl], etc.\n",
        "    \"\"\"\n",
        "    if pd.isna(smiles):\n",
        "        return \"\"\n",
        "    return re.sub(r'\\[([A-Z][a-z]?)[+-]?[0-9]*\\]', r'[\\1]', smiles)\n",
        "\n",
        "# Função para calcular descritores moleculares\n",
        "def calcular_descritores(smiles):\n",
        "    mol = Chem.MolFromSmiles(smiles)\n",
        "    if mol is None:\n",
        "        return {}\n",
        "    return {desc[0]: desc[1](mol) for desc in Descriptors.descList}\n",
        "\n",
        "# Função principal com controle de neutralização\n",
        "def verificar_subestruturas_e_descritores(\n",
        "    df, df_estruturas,\n",
        "    smiles_col='SMILES',\n",
        "    estrutura_smiles_col='SMILES',\n",
        "    neutralizar=True\n",
        "):\n",
        "    \"\"\"\n",
        "    Verifica presença de subestruturas e calcula descritores moleculares.\n",
        "\n",
        "    Parâmetros:\n",
        "        df: DataFrame com compostos.\n",
        "        df_estruturas: DataFrame com subestruturas.\n",
        "        smiles_col: nome da coluna de SMILES no df.\n",
        "        estrutura_smiles_col: nome da coluna de SMILES no df_estruturas.\n",
        "        neutralizar: se True, remove carga dos SMILES antes da comparação.\n",
        "\n",
        "    Retorna:\n",
        "        DataFrame com descritores e colunas de presença de subestruturas.\n",
        "    \"\"\"\n",
        "\n",
        "    df_estruturas.columns = df_estruturas.columns.str.strip()\n",
        "\n",
        "    # Preparar os SMILES das subestruturas\n",
        "    if neutralizar:\n",
        "        df_estruturas['SMILES_neutro'] = df_estruturas[estrutura_smiles_col].apply(neutralizar_smiles)\n",
        "    else:\n",
        "        df_estruturas['SMILES_neutro'] = df_estruturas[estrutura_smiles_col]\n",
        "\n",
        "    padroes = {\n",
        "        smiles: Chem.MolFromSmiles(smiles)\n",
        "        for smiles in df_estruturas['SMILES_neutro']\n",
        "        if Chem.MolFromSmiles(smiles) is not None\n",
        "    }\n",
        "\n",
        "    subestrutura_resultados = {smiles: [] for smiles in padroes}\n",
        "    descritores_resultados = {desc[0]: [] for desc in Descriptors.descList}\n",
        "\n",
        "    # Iterar sobre os SMILES dos compostos\n",
        "    for smiles in tqdm(df[smiles_col], desc=\"Processando moléculas\", unit=\"molécula\"):\n",
        "        smiles_proc = neutralizar_smiles(smiles) if neutralizar else smiles\n",
        "        mol = Chem.MolFromSmiles(smiles_proc)\n",
        "\n",
        "        for sub_smiles, padrao in padroes.items():\n",
        "            subestrutura_resultados[sub_smiles].append(int(mol.HasSubstructMatch(padrao)) if mol else 0)\n",
        "\n",
        "        descritores = calcular_descritores(smiles_proc)\n",
        "        for desc_nome in descritores_resultados:\n",
        "            descritores_resultados[desc_nome].append(descritores.get(desc_nome, None))\n",
        "\n",
        "    df_subs = pd.DataFrame(subestrutura_resultados)\n",
        "    df_descs = pd.DataFrame(descritores_resultados)\n",
        "    df_final = pd.concat([df.reset_index(drop=True), df_descs, df_subs], axis=1)\n",
        "\n",
        "    return df_final"
      ]
    },
    {
      "cell_type": "code",
      "execution_count": 19,
      "metadata": {
        "id": "2nsvHvoR1kal"
      },
      "outputs": [],
      "source": [
        "df_estruturas = pd.read_csv('/content/Estruturas de alerta.csv')"
      ]
    },
    {
      "cell_type": "code",
      "execution_count": 20,
      "metadata": {
        "colab": {
          "base_uri": "https://localhost:8080/"
        },
        "id": "aU3UTAPFSqk0",
        "outputId": "57a15bb5-a9d7-463e-ea5c-d5c4e0c3c9f9"
      },
      "outputs": [
        {
          "output_type": "stream",
          "name": "stderr",
          "text": [
            "Processando moléculas: 100%|██████████| 3886/3886 [00:52<00:00, 73.39molécula/s]\n"
          ]
        },
        {
          "output_type": "execute_result",
          "data": {
            "text/plain": [
              "(3886, 362)"
            ]
          },
          "metadata": {},
          "execution_count": 20
        }
      ],
      "source": [
        "# Exemplo de uso\n",
        "df_processado = verificar_subestruturas_e_descritores(\n",
        "    df=df_final,\n",
        "    df_estruturas=df_estruturas,\n",
        "    smiles_col='SMILES',\n",
        "    estrutura_smiles_col='SMILES'\n",
        ")\n",
        "df_processado.shape"
      ]
    },
    {
      "cell_type": "markdown",
      "metadata": {
        "id": "OudhqyL_vS_i"
      },
      "source": [
        "# Classificação"
      ]
    },
    {
      "cell_type": "code",
      "execution_count": 22,
      "metadata": {
        "id": "GZhVWLDy281o"
      },
      "outputs": [],
      "source": [
        "# Carregar os dados\n",
        "df = df_processado.copy()\n",
        "\n",
        "# Definir as features (X) e o alvo (y)\n",
        "X = df.drop(columns=['SMILES', 'Results'])  # Remove colunas não numéricas\n",
        "y = df['Results']"
      ]
    },
    {
      "cell_type": "code",
      "execution_count": null,
      "metadata": {
        "id": "Tf0PrbRW_g0f"
      },
      "outputs": [],
      "source": [
        "# Normalizar os dados (opcional, mas recomendado para alguns modelos)\n",
        "scaler = StandardScaler()\n",
        "X_scaled = scaler.fit_transform(X)\n",
        "\n",
        "# Configurar o StratifiedKFold (10 folds)\n",
        "cv = StratifiedKFold(n_splits=3, shuffle=True, random_state=42)\n",
        "\n",
        "# Criar dicionário para armazenar os resultados\n",
        "results = []\n",
        "\n",
        "# Iterar sobre os folds\n",
        "for train_idx, test_idx in cv.split(X_scaled, y):\n",
        "    X_train, X_test = X_scaled[train_idx], X_scaled[test_idx]\n",
        "    y_train, y_test = y[train_idx], y[test_idx]\n",
        "\n",
        "    # Inicializar o LazyClassifier\n",
        "    clf = LazyClassifier(verbose=0, ignore_warnings=True, custom_metric=None)\n",
        "\n",
        "    # Treinar e testar os modelos\n",
        "    models, predictions = clf.fit(X_train, X_test, y_train, y_test)\n",
        "\n",
        "    # Salvar os resultados do fold\n",
        "    results.append(models)\n",
        "\n",
        "final_results_vivo = (pd.concat(results).groupby(level=0).agg(['mean', 'std']).sort_values(by=('F1 Score', 'mean'), ascending=False)\n",
        ")"
      ]
    },
    {
      "cell_type": "code",
      "execution_count": 39,
      "metadata": {
        "colab": {
          "base_uri": "https://localhost:8080/",
          "height": 959
        },
        "id": "kbhBwr1yojBt",
        "outputId": "a53f3497-69d1-40cf-f5fa-da7b0f253145"
      },
      "outputs": [
        {
          "output_type": "execute_result",
          "data": {
            "text/plain": [
              "                              Accuracy      Balanced Accuracy      ROC AUC  \\\n",
              "                                  mean  std              mean  std    mean   \n",
              "Model                                                                        \n",
              "ExtraTreesClassifier              0.73 0.00              0.73 0.00    0.73   \n",
              "RandomForestClassifier            0.72 0.01              0.72 0.01    0.72   \n",
              "LGBMClassifier                    0.71 0.01              0.71 0.01    0.71   \n",
              "SVC                               0.71 0.00              0.71 0.00    0.71   \n",
              "XGBClassifier                     0.71 0.00              0.71 0.00    0.71   \n",
              "NuSVC                             0.71 0.00              0.71 0.00    0.71   \n",
              "RidgeClassifier                   0.70 0.01              0.70 0.01    0.70   \n",
              "RidgeClassifierCV                 0.70 0.01              0.70 0.01    0.70   \n",
              "LogisticRegression                0.70 0.01              0.70 0.01    0.70   \n",
              "LinearDiscriminantAnalysis        0.70 0.01              0.70 0.01    0.70   \n",
              "LinearSVC                         0.70 0.01              0.70 0.01    0.70   \n",
              "BaggingClassifier                 0.69 0.00              0.69 0.00    0.69   \n",
              "CalibratedClassifierCV            0.69 0.01              0.69 0.01    0.69   \n",
              "KNeighborsClassifier              0.67 0.01              0.68 0.01    0.68   \n",
              "ExtraTreeClassifier               0.66 0.00              0.66 0.00    0.66   \n",
              "LabelSpreading                    0.66 0.00              0.66 0.00    0.66   \n",
              "LabelPropagation                  0.66 0.00              0.66 0.00    0.66   \n",
              "DecisionTreeClassifier            0.65 0.01              0.65 0.01    0.65   \n",
              "AdaBoostClassifier                0.64 0.01              0.64 0.01    0.64   \n",
              "PassiveAggressiveClassifier       0.64 0.01              0.64 0.01    0.64   \n",
              "SGDClassifier                     0.63 0.03              0.63 0.03    0.63   \n",
              "Perceptron                        0.63 0.04              0.63 0.04    0.63   \n",
              "BernoulliNB                       0.63 0.02              0.63 0.02    0.63   \n",
              "NearestCentroid                   0.60 0.02              0.60 0.02    0.60   \n",
              "GaussianNB                        0.59 0.02              0.59 0.02    0.59   \n",
              "QuadraticDiscriminantAnalysis     0.60 0.01              0.59 0.01    0.59   \n",
              "DummyClassifier                   0.51 0.00              0.50 0.00    0.50   \n",
              "\n",
              "                                   F1 Score      Time Taken       \n",
              "                               std     mean  std       mean  std  \n",
              "Model                                                             \n",
              "ExtraTreesClassifier          0.00     0.73 0.00       1.37 0.29  \n",
              "RandomForestClassifier        0.01     0.72 0.01       1.89 0.32  \n",
              "LGBMClassifier                0.01     0.71 0.01       1.31 0.01  \n",
              "SVC                           0.00     0.71 0.00       1.89 0.03  \n",
              "XGBClassifier                 0.00     0.71 0.00       2.08 1.06  \n",
              "NuSVC                         0.00     0.71 0.00       1.93 0.07  \n",
              "RidgeClassifier               0.01     0.70 0.01       0.19 0.13  \n",
              "RidgeClassifierCV             0.01     0.70 0.01       0.37 0.00  \n",
              "LogisticRegression            0.01     0.70 0.01       0.23 0.01  \n",
              "LinearDiscriminantAnalysis    0.01     0.70 0.00       0.31 0.01  \n",
              "LinearSVC                     0.01     0.70 0.01      17.91 0.59  \n",
              "BaggingClassifier             0.00     0.69 0.00       2.16 0.04  \n",
              "CalibratedClassifierCV        0.01     0.69 0.01      71.64 4.94  \n",
              "KNeighborsClassifier          0.01     0.67 0.01       0.20 0.06  \n",
              "ExtraTreeClassifier           0.00     0.66 0.00       0.08 0.02  \n",
              "LabelSpreading                0.00     0.65 0.01       0.77 0.00  \n",
              "LabelPropagation              0.00     0.65 0.00       0.70 0.18  \n",
              "DecisionTreeClassifier        0.01     0.65 0.01       0.46 0.09  \n",
              "AdaBoostClassifier            0.01     0.64 0.01       1.95 0.01  \n",
              "PassiveAggressiveClassifier   0.01     0.64 0.01       0.14 0.02  \n",
              "SGDClassifier                 0.03     0.63 0.03       0.29 0.07  \n",
              "Perceptron                    0.04     0.63 0.04       0.17 0.07  \n",
              "BernoulliNB                   0.02     0.63 0.02       0.10 0.01  \n",
              "NearestCentroid               0.02     0.60 0.02       0.11 0.01  \n",
              "GaussianNB                    0.02     0.56 0.05       0.09 0.02  \n",
              "QuadraticDiscriminantAnalysis 0.01     0.56 0.02       0.40 0.16  \n",
              "DummyClassifier               0.00     0.35 0.00       0.07 0.01  "
            ],
            "text/html": [
              "\n",
              "  <div id=\"df-4a975361-21c1-4bbc-a42c-cfe20b8114d1\" class=\"colab-df-container\">\n",
              "    <div>\n",
              "<style scoped>\n",
              "    .dataframe tbody tr th:only-of-type {\n",
              "        vertical-align: middle;\n",
              "    }\n",
              "\n",
              "    .dataframe tbody tr th {\n",
              "        vertical-align: top;\n",
              "    }\n",
              "\n",
              "    .dataframe thead tr th {\n",
              "        text-align: left;\n",
              "    }\n",
              "\n",
              "    .dataframe thead tr:last-of-type th {\n",
              "        text-align: right;\n",
              "    }\n",
              "</style>\n",
              "<table border=\"1\" class=\"dataframe\">\n",
              "  <thead>\n",
              "    <tr>\n",
              "      <th></th>\n",
              "      <th colspan=\"2\" halign=\"left\">Accuracy</th>\n",
              "      <th colspan=\"2\" halign=\"left\">Balanced Accuracy</th>\n",
              "      <th colspan=\"2\" halign=\"left\">ROC AUC</th>\n",
              "      <th colspan=\"2\" halign=\"left\">F1 Score</th>\n",
              "      <th colspan=\"2\" halign=\"left\">Time Taken</th>\n",
              "    </tr>\n",
              "    <tr>\n",
              "      <th></th>\n",
              "      <th>mean</th>\n",
              "      <th>std</th>\n",
              "      <th>mean</th>\n",
              "      <th>std</th>\n",
              "      <th>mean</th>\n",
              "      <th>std</th>\n",
              "      <th>mean</th>\n",
              "      <th>std</th>\n",
              "      <th>mean</th>\n",
              "      <th>std</th>\n",
              "    </tr>\n",
              "    <tr>\n",
              "      <th>Model</th>\n",
              "      <th></th>\n",
              "      <th></th>\n",
              "      <th></th>\n",
              "      <th></th>\n",
              "      <th></th>\n",
              "      <th></th>\n",
              "      <th></th>\n",
              "      <th></th>\n",
              "      <th></th>\n",
              "      <th></th>\n",
              "    </tr>\n",
              "  </thead>\n",
              "  <tbody>\n",
              "    <tr>\n",
              "      <th>ExtraTreesClassifier</th>\n",
              "      <td>0.73</td>\n",
              "      <td>0.00</td>\n",
              "      <td>0.73</td>\n",
              "      <td>0.00</td>\n",
              "      <td>0.73</td>\n",
              "      <td>0.00</td>\n",
              "      <td>0.73</td>\n",
              "      <td>0.00</td>\n",
              "      <td>1.37</td>\n",
              "      <td>0.29</td>\n",
              "    </tr>\n",
              "    <tr>\n",
              "      <th>RandomForestClassifier</th>\n",
              "      <td>0.72</td>\n",
              "      <td>0.01</td>\n",
              "      <td>0.72</td>\n",
              "      <td>0.01</td>\n",
              "      <td>0.72</td>\n",
              "      <td>0.01</td>\n",
              "      <td>0.72</td>\n",
              "      <td>0.01</td>\n",
              "      <td>1.89</td>\n",
              "      <td>0.32</td>\n",
              "    </tr>\n",
              "    <tr>\n",
              "      <th>LGBMClassifier</th>\n",
              "      <td>0.71</td>\n",
              "      <td>0.01</td>\n",
              "      <td>0.71</td>\n",
              "      <td>0.01</td>\n",
              "      <td>0.71</td>\n",
              "      <td>0.01</td>\n",
              "      <td>0.71</td>\n",
              "      <td>0.01</td>\n",
              "      <td>1.31</td>\n",
              "      <td>0.01</td>\n",
              "    </tr>\n",
              "    <tr>\n",
              "      <th>SVC</th>\n",
              "      <td>0.71</td>\n",
              "      <td>0.00</td>\n",
              "      <td>0.71</td>\n",
              "      <td>0.00</td>\n",
              "      <td>0.71</td>\n",
              "      <td>0.00</td>\n",
              "      <td>0.71</td>\n",
              "      <td>0.00</td>\n",
              "      <td>1.89</td>\n",
              "      <td>0.03</td>\n",
              "    </tr>\n",
              "    <tr>\n",
              "      <th>XGBClassifier</th>\n",
              "      <td>0.71</td>\n",
              "      <td>0.00</td>\n",
              "      <td>0.71</td>\n",
              "      <td>0.00</td>\n",
              "      <td>0.71</td>\n",
              "      <td>0.00</td>\n",
              "      <td>0.71</td>\n",
              "      <td>0.00</td>\n",
              "      <td>2.08</td>\n",
              "      <td>1.06</td>\n",
              "    </tr>\n",
              "    <tr>\n",
              "      <th>NuSVC</th>\n",
              "      <td>0.71</td>\n",
              "      <td>0.00</td>\n",
              "      <td>0.71</td>\n",
              "      <td>0.00</td>\n",
              "      <td>0.71</td>\n",
              "      <td>0.00</td>\n",
              "      <td>0.71</td>\n",
              "      <td>0.00</td>\n",
              "      <td>1.93</td>\n",
              "      <td>0.07</td>\n",
              "    </tr>\n",
              "    <tr>\n",
              "      <th>RidgeClassifier</th>\n",
              "      <td>0.70</td>\n",
              "      <td>0.01</td>\n",
              "      <td>0.70</td>\n",
              "      <td>0.01</td>\n",
              "      <td>0.70</td>\n",
              "      <td>0.01</td>\n",
              "      <td>0.70</td>\n",
              "      <td>0.01</td>\n",
              "      <td>0.19</td>\n",
              "      <td>0.13</td>\n",
              "    </tr>\n",
              "    <tr>\n",
              "      <th>RidgeClassifierCV</th>\n",
              "      <td>0.70</td>\n",
              "      <td>0.01</td>\n",
              "      <td>0.70</td>\n",
              "      <td>0.01</td>\n",
              "      <td>0.70</td>\n",
              "      <td>0.01</td>\n",
              "      <td>0.70</td>\n",
              "      <td>0.01</td>\n",
              "      <td>0.37</td>\n",
              "      <td>0.00</td>\n",
              "    </tr>\n",
              "    <tr>\n",
              "      <th>LogisticRegression</th>\n",
              "      <td>0.70</td>\n",
              "      <td>0.01</td>\n",
              "      <td>0.70</td>\n",
              "      <td>0.01</td>\n",
              "      <td>0.70</td>\n",
              "      <td>0.01</td>\n",
              "      <td>0.70</td>\n",
              "      <td>0.01</td>\n",
              "      <td>0.23</td>\n",
              "      <td>0.01</td>\n",
              "    </tr>\n",
              "    <tr>\n",
              "      <th>LinearDiscriminantAnalysis</th>\n",
              "      <td>0.70</td>\n",
              "      <td>0.01</td>\n",
              "      <td>0.70</td>\n",
              "      <td>0.01</td>\n",
              "      <td>0.70</td>\n",
              "      <td>0.01</td>\n",
              "      <td>0.70</td>\n",
              "      <td>0.00</td>\n",
              "      <td>0.31</td>\n",
              "      <td>0.01</td>\n",
              "    </tr>\n",
              "    <tr>\n",
              "      <th>LinearSVC</th>\n",
              "      <td>0.70</td>\n",
              "      <td>0.01</td>\n",
              "      <td>0.70</td>\n",
              "      <td>0.01</td>\n",
              "      <td>0.70</td>\n",
              "      <td>0.01</td>\n",
              "      <td>0.70</td>\n",
              "      <td>0.01</td>\n",
              "      <td>17.91</td>\n",
              "      <td>0.59</td>\n",
              "    </tr>\n",
              "    <tr>\n",
              "      <th>BaggingClassifier</th>\n",
              "      <td>0.69</td>\n",
              "      <td>0.00</td>\n",
              "      <td>0.69</td>\n",
              "      <td>0.00</td>\n",
              "      <td>0.69</td>\n",
              "      <td>0.00</td>\n",
              "      <td>0.69</td>\n",
              "      <td>0.00</td>\n",
              "      <td>2.16</td>\n",
              "      <td>0.04</td>\n",
              "    </tr>\n",
              "    <tr>\n",
              "      <th>CalibratedClassifierCV</th>\n",
              "      <td>0.69</td>\n",
              "      <td>0.01</td>\n",
              "      <td>0.69</td>\n",
              "      <td>0.01</td>\n",
              "      <td>0.69</td>\n",
              "      <td>0.01</td>\n",
              "      <td>0.69</td>\n",
              "      <td>0.01</td>\n",
              "      <td>71.64</td>\n",
              "      <td>4.94</td>\n",
              "    </tr>\n",
              "    <tr>\n",
              "      <th>KNeighborsClassifier</th>\n",
              "      <td>0.67</td>\n",
              "      <td>0.01</td>\n",
              "      <td>0.68</td>\n",
              "      <td>0.01</td>\n",
              "      <td>0.68</td>\n",
              "      <td>0.01</td>\n",
              "      <td>0.67</td>\n",
              "      <td>0.01</td>\n",
              "      <td>0.20</td>\n",
              "      <td>0.06</td>\n",
              "    </tr>\n",
              "    <tr>\n",
              "      <th>ExtraTreeClassifier</th>\n",
              "      <td>0.66</td>\n",
              "      <td>0.00</td>\n",
              "      <td>0.66</td>\n",
              "      <td>0.00</td>\n",
              "      <td>0.66</td>\n",
              "      <td>0.00</td>\n",
              "      <td>0.66</td>\n",
              "      <td>0.00</td>\n",
              "      <td>0.08</td>\n",
              "      <td>0.02</td>\n",
              "    </tr>\n",
              "    <tr>\n",
              "      <th>LabelSpreading</th>\n",
              "      <td>0.66</td>\n",
              "      <td>0.00</td>\n",
              "      <td>0.66</td>\n",
              "      <td>0.00</td>\n",
              "      <td>0.66</td>\n",
              "      <td>0.00</td>\n",
              "      <td>0.65</td>\n",
              "      <td>0.01</td>\n",
              "      <td>0.77</td>\n",
              "      <td>0.00</td>\n",
              "    </tr>\n",
              "    <tr>\n",
              "      <th>LabelPropagation</th>\n",
              "      <td>0.66</td>\n",
              "      <td>0.00</td>\n",
              "      <td>0.66</td>\n",
              "      <td>0.00</td>\n",
              "      <td>0.66</td>\n",
              "      <td>0.00</td>\n",
              "      <td>0.65</td>\n",
              "      <td>0.00</td>\n",
              "      <td>0.70</td>\n",
              "      <td>0.18</td>\n",
              "    </tr>\n",
              "    <tr>\n",
              "      <th>DecisionTreeClassifier</th>\n",
              "      <td>0.65</td>\n",
              "      <td>0.01</td>\n",
              "      <td>0.65</td>\n",
              "      <td>0.01</td>\n",
              "      <td>0.65</td>\n",
              "      <td>0.01</td>\n",
              "      <td>0.65</td>\n",
              "      <td>0.01</td>\n",
              "      <td>0.46</td>\n",
              "      <td>0.09</td>\n",
              "    </tr>\n",
              "    <tr>\n",
              "      <th>AdaBoostClassifier</th>\n",
              "      <td>0.64</td>\n",
              "      <td>0.01</td>\n",
              "      <td>0.64</td>\n",
              "      <td>0.01</td>\n",
              "      <td>0.64</td>\n",
              "      <td>0.01</td>\n",
              "      <td>0.64</td>\n",
              "      <td>0.01</td>\n",
              "      <td>1.95</td>\n",
              "      <td>0.01</td>\n",
              "    </tr>\n",
              "    <tr>\n",
              "      <th>PassiveAggressiveClassifier</th>\n",
              "      <td>0.64</td>\n",
              "      <td>0.01</td>\n",
              "      <td>0.64</td>\n",
              "      <td>0.01</td>\n",
              "      <td>0.64</td>\n",
              "      <td>0.01</td>\n",
              "      <td>0.64</td>\n",
              "      <td>0.01</td>\n",
              "      <td>0.14</td>\n",
              "      <td>0.02</td>\n",
              "    </tr>\n",
              "    <tr>\n",
              "      <th>SGDClassifier</th>\n",
              "      <td>0.63</td>\n",
              "      <td>0.03</td>\n",
              "      <td>0.63</td>\n",
              "      <td>0.03</td>\n",
              "      <td>0.63</td>\n",
              "      <td>0.03</td>\n",
              "      <td>0.63</td>\n",
              "      <td>0.03</td>\n",
              "      <td>0.29</td>\n",
              "      <td>0.07</td>\n",
              "    </tr>\n",
              "    <tr>\n",
              "      <th>Perceptron</th>\n",
              "      <td>0.63</td>\n",
              "      <td>0.04</td>\n",
              "      <td>0.63</td>\n",
              "      <td>0.04</td>\n",
              "      <td>0.63</td>\n",
              "      <td>0.04</td>\n",
              "      <td>0.63</td>\n",
              "      <td>0.04</td>\n",
              "      <td>0.17</td>\n",
              "      <td>0.07</td>\n",
              "    </tr>\n",
              "    <tr>\n",
              "      <th>BernoulliNB</th>\n",
              "      <td>0.63</td>\n",
              "      <td>0.02</td>\n",
              "      <td>0.63</td>\n",
              "      <td>0.02</td>\n",
              "      <td>0.63</td>\n",
              "      <td>0.02</td>\n",
              "      <td>0.63</td>\n",
              "      <td>0.02</td>\n",
              "      <td>0.10</td>\n",
              "      <td>0.01</td>\n",
              "    </tr>\n",
              "    <tr>\n",
              "      <th>NearestCentroid</th>\n",
              "      <td>0.60</td>\n",
              "      <td>0.02</td>\n",
              "      <td>0.60</td>\n",
              "      <td>0.02</td>\n",
              "      <td>0.60</td>\n",
              "      <td>0.02</td>\n",
              "      <td>0.60</td>\n",
              "      <td>0.02</td>\n",
              "      <td>0.11</td>\n",
              "      <td>0.01</td>\n",
              "    </tr>\n",
              "    <tr>\n",
              "      <th>GaussianNB</th>\n",
              "      <td>0.59</td>\n",
              "      <td>0.02</td>\n",
              "      <td>0.59</td>\n",
              "      <td>0.02</td>\n",
              "      <td>0.59</td>\n",
              "      <td>0.02</td>\n",
              "      <td>0.56</td>\n",
              "      <td>0.05</td>\n",
              "      <td>0.09</td>\n",
              "      <td>0.02</td>\n",
              "    </tr>\n",
              "    <tr>\n",
              "      <th>QuadraticDiscriminantAnalysis</th>\n",
              "      <td>0.60</td>\n",
              "      <td>0.01</td>\n",
              "      <td>0.59</td>\n",
              "      <td>0.01</td>\n",
              "      <td>0.59</td>\n",
              "      <td>0.01</td>\n",
              "      <td>0.56</td>\n",
              "      <td>0.02</td>\n",
              "      <td>0.40</td>\n",
              "      <td>0.16</td>\n",
              "    </tr>\n",
              "    <tr>\n",
              "      <th>DummyClassifier</th>\n",
              "      <td>0.51</td>\n",
              "      <td>0.00</td>\n",
              "      <td>0.50</td>\n",
              "      <td>0.00</td>\n",
              "      <td>0.50</td>\n",
              "      <td>0.00</td>\n",
              "      <td>0.35</td>\n",
              "      <td>0.00</td>\n",
              "      <td>0.07</td>\n",
              "      <td>0.01</td>\n",
              "    </tr>\n",
              "  </tbody>\n",
              "</table>\n",
              "</div>\n",
              "    <div class=\"colab-df-buttons\">\n",
              "\n",
              "  <div class=\"colab-df-container\">\n",
              "    <button class=\"colab-df-convert\" onclick=\"convertToInteractive('df-4a975361-21c1-4bbc-a42c-cfe20b8114d1')\"\n",
              "            title=\"Convert this dataframe to an interactive table.\"\n",
              "            style=\"display:none;\">\n",
              "\n",
              "  <svg xmlns=\"http://www.w3.org/2000/svg\" height=\"24px\" viewBox=\"0 -960 960 960\">\n",
              "    <path d=\"M120-120v-720h720v720H120Zm60-500h600v-160H180v160Zm220 220h160v-160H400v160Zm0 220h160v-160H400v160ZM180-400h160v-160H180v160Zm440 0h160v-160H620v160ZM180-180h160v-160H180v160Zm440 0h160v-160H620v160Z\"/>\n",
              "  </svg>\n",
              "    </button>\n",
              "\n",
              "  <style>\n",
              "    .colab-df-container {\n",
              "      display:flex;\n",
              "      gap: 12px;\n",
              "    }\n",
              "\n",
              "    .colab-df-convert {\n",
              "      background-color: #E8F0FE;\n",
              "      border: none;\n",
              "      border-radius: 50%;\n",
              "      cursor: pointer;\n",
              "      display: none;\n",
              "      fill: #1967D2;\n",
              "      height: 32px;\n",
              "      padding: 0 0 0 0;\n",
              "      width: 32px;\n",
              "    }\n",
              "\n",
              "    .colab-df-convert:hover {\n",
              "      background-color: #E2EBFA;\n",
              "      box-shadow: 0px 1px 2px rgba(60, 64, 67, 0.3), 0px 1px 3px 1px rgba(60, 64, 67, 0.15);\n",
              "      fill: #174EA6;\n",
              "    }\n",
              "\n",
              "    .colab-df-buttons div {\n",
              "      margin-bottom: 4px;\n",
              "    }\n",
              "\n",
              "    [theme=dark] .colab-df-convert {\n",
              "      background-color: #3B4455;\n",
              "      fill: #D2E3FC;\n",
              "    }\n",
              "\n",
              "    [theme=dark] .colab-df-convert:hover {\n",
              "      background-color: #434B5C;\n",
              "      box-shadow: 0px 1px 3px 1px rgba(0, 0, 0, 0.15);\n",
              "      filter: drop-shadow(0px 1px 2px rgba(0, 0, 0, 0.3));\n",
              "      fill: #FFFFFF;\n",
              "    }\n",
              "  </style>\n",
              "\n",
              "    <script>\n",
              "      const buttonEl =\n",
              "        document.querySelector('#df-4a975361-21c1-4bbc-a42c-cfe20b8114d1 button.colab-df-convert');\n",
              "      buttonEl.style.display =\n",
              "        google.colab.kernel.accessAllowed ? 'block' : 'none';\n",
              "\n",
              "      async function convertToInteractive(key) {\n",
              "        const element = document.querySelector('#df-4a975361-21c1-4bbc-a42c-cfe20b8114d1');\n",
              "        const dataTable =\n",
              "          await google.colab.kernel.invokeFunction('convertToInteractive',\n",
              "                                                    [key], {});\n",
              "        if (!dataTable) return;\n",
              "\n",
              "        const docLinkHtml = 'Like what you see? Visit the ' +\n",
              "          '<a target=\"_blank\" href=https://colab.research.google.com/notebooks/data_table.ipynb>data table notebook</a>'\n",
              "          + ' to learn more about interactive tables.';\n",
              "        element.innerHTML = '';\n",
              "        dataTable['output_type'] = 'display_data';\n",
              "        await google.colab.output.renderOutput(dataTable, element);\n",
              "        const docLink = document.createElement('div');\n",
              "        docLink.innerHTML = docLinkHtml;\n",
              "        element.appendChild(docLink);\n",
              "      }\n",
              "    </script>\n",
              "  </div>\n",
              "\n",
              "\n",
              "<div id=\"df-b2211a33-62c5-4f80-b499-d5b6902fe2a4\">\n",
              "  <button class=\"colab-df-quickchart\" onclick=\"quickchart('df-b2211a33-62c5-4f80-b499-d5b6902fe2a4')\"\n",
              "            title=\"Suggest charts\"\n",
              "            style=\"display:none;\">\n",
              "\n",
              "<svg xmlns=\"http://www.w3.org/2000/svg\" height=\"24px\"viewBox=\"0 0 24 24\"\n",
              "     width=\"24px\">\n",
              "    <g>\n",
              "        <path d=\"M19 3H5c-1.1 0-2 .9-2 2v14c0 1.1.9 2 2 2h14c1.1 0 2-.9 2-2V5c0-1.1-.9-2-2-2zM9 17H7v-7h2v7zm4 0h-2V7h2v10zm4 0h-2v-4h2v4z\"/>\n",
              "    </g>\n",
              "</svg>\n",
              "  </button>\n",
              "\n",
              "<style>\n",
              "  .colab-df-quickchart {\n",
              "      --bg-color: #E8F0FE;\n",
              "      --fill-color: #1967D2;\n",
              "      --hover-bg-color: #E2EBFA;\n",
              "      --hover-fill-color: #174EA6;\n",
              "      --disabled-fill-color: #AAA;\n",
              "      --disabled-bg-color: #DDD;\n",
              "  }\n",
              "\n",
              "  [theme=dark] .colab-df-quickchart {\n",
              "      --bg-color: #3B4455;\n",
              "      --fill-color: #D2E3FC;\n",
              "      --hover-bg-color: #434B5C;\n",
              "      --hover-fill-color: #FFFFFF;\n",
              "      --disabled-bg-color: #3B4455;\n",
              "      --disabled-fill-color: #666;\n",
              "  }\n",
              "\n",
              "  .colab-df-quickchart {\n",
              "    background-color: var(--bg-color);\n",
              "    border: none;\n",
              "    border-radius: 50%;\n",
              "    cursor: pointer;\n",
              "    display: none;\n",
              "    fill: var(--fill-color);\n",
              "    height: 32px;\n",
              "    padding: 0;\n",
              "    width: 32px;\n",
              "  }\n",
              "\n",
              "  .colab-df-quickchart:hover {\n",
              "    background-color: var(--hover-bg-color);\n",
              "    box-shadow: 0 1px 2px rgba(60, 64, 67, 0.3), 0 1px 3px 1px rgba(60, 64, 67, 0.15);\n",
              "    fill: var(--button-hover-fill-color);\n",
              "  }\n",
              "\n",
              "  .colab-df-quickchart-complete:disabled,\n",
              "  .colab-df-quickchart-complete:disabled:hover {\n",
              "    background-color: var(--disabled-bg-color);\n",
              "    fill: var(--disabled-fill-color);\n",
              "    box-shadow: none;\n",
              "  }\n",
              "\n",
              "  .colab-df-spinner {\n",
              "    border: 2px solid var(--fill-color);\n",
              "    border-color: transparent;\n",
              "    border-bottom-color: var(--fill-color);\n",
              "    animation:\n",
              "      spin 1s steps(1) infinite;\n",
              "  }\n",
              "\n",
              "  @keyframes spin {\n",
              "    0% {\n",
              "      border-color: transparent;\n",
              "      border-bottom-color: var(--fill-color);\n",
              "      border-left-color: var(--fill-color);\n",
              "    }\n",
              "    20% {\n",
              "      border-color: transparent;\n",
              "      border-left-color: var(--fill-color);\n",
              "      border-top-color: var(--fill-color);\n",
              "    }\n",
              "    30% {\n",
              "      border-color: transparent;\n",
              "      border-left-color: var(--fill-color);\n",
              "      border-top-color: var(--fill-color);\n",
              "      border-right-color: var(--fill-color);\n",
              "    }\n",
              "    40% {\n",
              "      border-color: transparent;\n",
              "      border-right-color: var(--fill-color);\n",
              "      border-top-color: var(--fill-color);\n",
              "    }\n",
              "    60% {\n",
              "      border-color: transparent;\n",
              "      border-right-color: var(--fill-color);\n",
              "    }\n",
              "    80% {\n",
              "      border-color: transparent;\n",
              "      border-right-color: var(--fill-color);\n",
              "      border-bottom-color: var(--fill-color);\n",
              "    }\n",
              "    90% {\n",
              "      border-color: transparent;\n",
              "      border-bottom-color: var(--fill-color);\n",
              "    }\n",
              "  }\n",
              "</style>\n",
              "\n",
              "  <script>\n",
              "    async function quickchart(key) {\n",
              "      const quickchartButtonEl =\n",
              "        document.querySelector('#' + key + ' button');\n",
              "      quickchartButtonEl.disabled = true;  // To prevent multiple clicks.\n",
              "      quickchartButtonEl.classList.add('colab-df-spinner');\n",
              "      try {\n",
              "        const charts = await google.colab.kernel.invokeFunction(\n",
              "            'suggestCharts', [key], {});\n",
              "      } catch (error) {\n",
              "        console.error('Error during call to suggestCharts:', error);\n",
              "      }\n",
              "      quickchartButtonEl.classList.remove('colab-df-spinner');\n",
              "      quickchartButtonEl.classList.add('colab-df-quickchart-complete');\n",
              "    }\n",
              "    (() => {\n",
              "      let quickchartButtonEl =\n",
              "        document.querySelector('#df-b2211a33-62c5-4f80-b499-d5b6902fe2a4 button');\n",
              "      quickchartButtonEl.style.display =\n",
              "        google.colab.kernel.accessAllowed ? 'block' : 'none';\n",
              "    })();\n",
              "  </script>\n",
              "</div>\n",
              "\n",
              "  <div id=\"id_89a477de-c4bd-4a9a-b923-1a84517bf803\">\n",
              "    <style>\n",
              "      .colab-df-generate {\n",
              "        background-color: #E8F0FE;\n",
              "        border: none;\n",
              "        border-radius: 50%;\n",
              "        cursor: pointer;\n",
              "        display: none;\n",
              "        fill: #1967D2;\n",
              "        height: 32px;\n",
              "        padding: 0 0 0 0;\n",
              "        width: 32px;\n",
              "      }\n",
              "\n",
              "      .colab-df-generate:hover {\n",
              "        background-color: #E2EBFA;\n",
              "        box-shadow: 0px 1px 2px rgba(60, 64, 67, 0.3), 0px 1px 3px 1px rgba(60, 64, 67, 0.15);\n",
              "        fill: #174EA6;\n",
              "      }\n",
              "\n",
              "      [theme=dark] .colab-df-generate {\n",
              "        background-color: #3B4455;\n",
              "        fill: #D2E3FC;\n",
              "      }\n",
              "\n",
              "      [theme=dark] .colab-df-generate:hover {\n",
              "        background-color: #434B5C;\n",
              "        box-shadow: 0px 1px 3px 1px rgba(0, 0, 0, 0.15);\n",
              "        filter: drop-shadow(0px 1px 2px rgba(0, 0, 0, 0.3));\n",
              "        fill: #FFFFFF;\n",
              "      }\n",
              "    </style>\n",
              "    <button class=\"colab-df-generate\" onclick=\"generateWithVariable('final_results_vivo')\"\n",
              "            title=\"Generate code using this dataframe.\"\n",
              "            style=\"display:none;\">\n",
              "\n",
              "  <svg xmlns=\"http://www.w3.org/2000/svg\" height=\"24px\"viewBox=\"0 0 24 24\"\n",
              "       width=\"24px\">\n",
              "    <path d=\"M7,19H8.4L18.45,9,17,7.55,7,17.6ZM5,21V16.75L18.45,3.32a2,2,0,0,1,2.83,0l1.4,1.43a1.91,1.91,0,0,1,.58,1.4,1.91,1.91,0,0,1-.58,1.4L9.25,21ZM18.45,9,17,7.55Zm-12,3A5.31,5.31,0,0,0,4.9,8.1,5.31,5.31,0,0,0,1,6.5,5.31,5.31,0,0,0,4.9,4.9,5.31,5.31,0,0,0,6.5,1,5.31,5.31,0,0,0,8.1,4.9,5.31,5.31,0,0,0,12,6.5,5.46,5.46,0,0,0,6.5,12Z\"/>\n",
              "  </svg>\n",
              "    </button>\n",
              "    <script>\n",
              "      (() => {\n",
              "      const buttonEl =\n",
              "        document.querySelector('#id_89a477de-c4bd-4a9a-b923-1a84517bf803 button.colab-df-generate');\n",
              "      buttonEl.style.display =\n",
              "        google.colab.kernel.accessAllowed ? 'block' : 'none';\n",
              "\n",
              "      buttonEl.onclick = () => {\n",
              "        google.colab.notebook.generateWithVariable('final_results_vivo');\n",
              "      }\n",
              "      })();\n",
              "    </script>\n",
              "  </div>\n",
              "\n",
              "    </div>\n",
              "  </div>\n"
            ],
            "application/vnd.google.colaboratory.intrinsic+json": {
              "type": "dataframe",
              "variable_name": "final_results_vivo",
              "summary": "{\n  \"name\": \"final_results_vivo\",\n  \"rows\": 27,\n  \"fields\": [\n    {\n      \"column\": [\n        \"Model\",\n        \"\"\n      ],\n      \"properties\": {\n        \"dtype\": \"string\",\n        \"num_unique_values\": 27,\n        \"samples\": [\n          \"LogisticRegression\",\n          \"KNeighborsClassifier\",\n          \"LinearDiscriminantAnalysis\"\n        ],\n        \"semantic_type\": \"\",\n        \"description\": \"\"\n      }\n    },\n    {\n      \"column\": [\n        \"Accuracy\",\n        \"mean\"\n      ],\n      \"properties\": {\n        \"dtype\": \"number\",\n        \"std\": 0.05042919963608462,\n        \"min\": 0.5113226321559655,\n        \"max\": 0.7261960373071484,\n        \"num_unique_values\": 27,\n        \"samples\": [\n          0.7007221507221507,\n          0.6742174714396937,\n          0.7004645518534408\n        ],\n        \"semantic_type\": \"\",\n        \"description\": \"\"\n      }\n    },\n    {\n      \"column\": [\n        \"Accuracy\",\n        \"std\"\n      ],\n      \"properties\": {\n        \"dtype\": \"number\",\n        \"std\": 0.008751369034671594,\n        \"min\": 0.0002177550886582609,\n        \"max\": 0.03765569207245567,\n        \"num_unique_values\": 27,\n        \"samples\": [\n          0.009130867073990497,\n          0.008771156004178476,\n          0.005288164666318431\n        ],\n        \"semantic_type\": \"\",\n        \"description\": \"\"\n      }\n    },\n    {\n      \"column\": [\n        \"Balanced Accuracy\",\n        \"mean\"\n      ],\n      \"properties\": {\n        \"dtype\": \"number\",\n        \"std\": 0.05209578192189196,\n        \"min\": 0.5,\n        \"max\": 0.7260447722132962,\n        \"num_unique_values\": 27,\n        \"samples\": [\n          0.6995578763769452,\n          0.6762402384662444,\n          0.6994590956579826\n        ],\n        \"semantic_type\": \"\",\n        \"description\": \"\"\n      }\n    },\n    {\n      \"column\": [\n        \"Balanced Accuracy\",\n        \"std\"\n      ],\n      \"properties\": {\n        \"dtype\": \"number\",\n        \"std\": 0.008952721186783408,\n        \"min\": 0.0,\n        \"max\": 0.03684513862956183,\n        \"num_unique_values\": 27,\n        \"samples\": [\n          0.008926403089851383,\n          0.008915620589972252,\n          0.005101168660892939\n        ],\n        \"semantic_type\": \"\",\n        \"description\": \"\"\n      }\n    },\n    {\n      \"column\": [\n        \"ROC AUC\",\n        \"mean\"\n      ],\n      \"properties\": {\n        \"dtype\": \"number\",\n        \"std\": 0.05209578192189196,\n        \"min\": 0.5,\n        \"max\": 0.7260447722132962,\n        \"num_unique_values\": 27,\n        \"samples\": [\n          0.6995578763769452,\n          0.6762402384662444,\n          0.6994590956579828\n        ],\n        \"semantic_type\": \"\",\n        \"description\": \"\"\n      }\n    },\n    {\n      \"column\": [\n        \"ROC AUC\",\n        \"std\"\n      ],\n      \"properties\": {\n        \"dtype\": \"number\",\n        \"std\": 0.0089527211867834,\n        \"min\": 0.0,\n        \"max\": 0.036845138629561805,\n        \"num_unique_values\": 27,\n        \"samples\": [\n          0.008926403089851383,\n          0.008915620589972252,\n          0.005101168660892967\n        ],\n        \"semantic_type\": \"\",\n        \"description\": \"\"\n      }\n    },\n    {\n      \"column\": [\n        \"F1 Score\",\n        \"mean\"\n      ],\n      \"properties\": {\n        \"dtype\": \"number\",\n        \"std\": 0.0773797986800421,\n        \"min\": 0.34598945642813633,\n        \"max\": 0.7261546943676809,\n        \"num_unique_values\": 27,\n        \"samples\": [\n          0.6997529455644836,\n          0.6718615809583787,\n          0.699682733876766\n        ],\n        \"semantic_type\": \"\",\n        \"description\": \"\"\n      }\n    },\n    {\n      \"column\": [\n        \"F1 Score\",\n        \"std\"\n      ],\n      \"properties\": {\n        \"dtype\": \"number\",\n        \"std\": 0.011755977368589564,\n        \"min\": 0.0002448553452902765,\n        \"max\": 0.04972573699280672,\n        \"num_unique_values\": 27,\n        \"samples\": [\n          0.008840505414586338,\n          0.008404680082926,\n          0.004966289556236698\n        ],\n        \"semantic_type\": \"\",\n        \"description\": \"\"\n      }\n    },\n    {\n      \"column\": [\n        \"Time Taken\",\n        \"mean\"\n      ],\n      \"properties\": {\n        \"dtype\": \"number\",\n        \"std\": 13.928686664108158,\n        \"min\": 0.07299017906188965,\n        \"max\": 71.64450168609619,\n        \"num_unique_values\": 27,\n        \"samples\": [\n          0.2269617716471354,\n          0.20082553227742514,\n          0.3145260810852051\n        ],\n        \"semantic_type\": \"\",\n        \"description\": \"\"\n      }\n    },\n    {\n      \"column\": [\n        \"Time Taken\",\n        \"std\"\n      ],\n      \"properties\": {\n        \"dtype\": \"number\",\n        \"std\": 0.9538705212107492,\n        \"min\": 0.002822964103473329,\n        \"max\": 4.940201686135094,\n        \"num_unique_values\": 27,\n        \"samples\": [\n          0.008434473598074468,\n          0.06445680880834415,\n          0.010691173069928008\n        ],\n        \"semantic_type\": \"\",\n        \"description\": \"\"\n      }\n    }\n  ]\n}"
            }
          },
          "metadata": {},
          "execution_count": 39
        }
      ],
      "source": [
        "final_results_vivo"
      ]
    },
    {
      "cell_type": "code",
      "source": [
        "from sklearn.model_selection import GridSearchCV, StratifiedKFold\n",
        "from sklearn.pipeline import Pipeline\n",
        "from sklearn.preprocessing import StandardScaler\n",
        "from sklearn.ensemble import RandomForestClassifier, ExtraTreesClassifier\n",
        "from sklearn.impute import SimpleImputer\n",
        "from sklearn.svm import NuSVC\n",
        "from xgboost import XGBClassifier\n",
        "from sklearn.metrics import make_scorer\n",
        "import pandas as pd\n",
        "\n",
        "# Validação cruzada\n",
        "cv = StratifiedKFold(n_splits=5, shuffle=True, random_state=42)\n",
        "\n",
        "# Métricas que queremos avaliar\n",
        "scoring = {\n",
        "    'accuracy': 'accuracy',\n",
        "    'precision': 'precision',\n",
        "    'recall': 'recall',\n",
        "    'f1': 'f1',\n",
        "    'roc_auc': 'roc_auc'\n",
        "}\n",
        "\n",
        "# Dicionário com modelos, pipelines e grids\n",
        "modelos = {\n",
        "    \"XGBoost\": {\n",
        "        \"pipeline\": Pipeline([\n",
        "            (\"scaler\", StandardScaler()),\n",
        "            (\"model\", XGBClassifier(random_state=42, use_label_encoder=False, eval_metric='logloss'))\n",
        "        ]),\n",
        "        \"param_grid\": {\n",
        "            \"model__n_estimators\": [50, 100],\n",
        "            \"model__max_depth\": [3, 6],\n",
        "            \"model__learning_rate\": [0.01, 0.1]\n",
        "        }\n",
        "    },\n",
        "    \"RandomForest\": {\n",
        "        \"pipeline\": Pipeline([\n",
        "            (\"scaler\", StandardScaler()),\n",
        "            (\"model\", RandomForestClassifier(random_state=42))\n",
        "        ]),\n",
        "        \"param_grid\": {\n",
        "            \"model__n_estimators\": [50, 100],\n",
        "            \"model__max_depth\": [3, 6]\n",
        "        }\n",
        "    },\n",
        "    \"ExtraTrees\": {\n",
        "        \"pipeline\": Pipeline([\n",
        "            (\"scaler\", StandardScaler()),\n",
        "            (\"model\", ExtraTreesClassifier(random_state=42))\n",
        "        ]),\n",
        "        \"param_grid\": {\n",
        "            \"model__n_estimators\": [50, 100],\n",
        "            \"model__max_depth\": [3, 6]\n",
        "        }\n",
        "    },\n",
        "    \"NuSVC\": {\n",
        "        \"pipeline\": Pipeline([\n",
        "            (\"imputer\", SimpleImputer(strategy=\"mean\")),\n",
        "            (\"scaler\", StandardScaler()),\n",
        "            (\"model\", NuSVC(probability=True))\n",
        "        ]),\n",
        "        \"param_grid\": {\n",
        "            \"model__nu\": [0.25, 0.5, 0.75],\n",
        "            \"model__kernel\": ['rbf', 'poly']\n",
        "        }\n",
        "    }\n",
        "}\n",
        "\n",
        "# Executar GridSearch para cada modelo e armazenar os resultados\n",
        "resultados_finais = []\n",
        "\n",
        "for nome_modelo, config in modelos.items():\n",
        "    print(f\"\\n🔍 Treinando modelo: {nome_modelo}\")\n",
        "\n",
        "    grid = GridSearchCV(\n",
        "        estimator=config[\"pipeline\"],\n",
        "        param_grid=config[\"param_grid\"],\n",
        "        scoring=scoring,\n",
        "        refit=\"f1\",\n",
        "        cv=cv,\n",
        "        verbose=1,\n",
        "        n_jobs=-1,\n",
        "        return_train_score=True\n",
        "    )\n",
        "\n",
        "    grid.fit(X, y)\n",
        "\n",
        "    # Resultados em DataFrame\n",
        "    df_resultado = pd.DataFrame(grid.cv_results_)\n",
        "    df_resultado['modelo'] = nome_modelo\n",
        "    resultados_finais.append(df_resultado)\n",
        "\n",
        "    # Mostrar melhores parâmetros do modelo atual\n",
        "    print(f\"✅ Melhor F1 ({nome_modelo}): {grid.best_score_:.4f}\")\n",
        "    print(f\"Melhores parâmetros: {grid.best_params_}\")\n",
        "\n",
        "# Juntar todos os resultados\n",
        "df_comparacao = pd.concat(resultados_finais, ignore_index=True)\n",
        "\n",
        "# Filtrar e ordenar os principais resultados por F1\n",
        "colunas_mostrar = ['modelo', 'mean_test_accuracy', 'mean_test_precision',\n",
        "                   'mean_test_recall', 'mean_test_f1', 'mean_test_roc_auc', 'params']\n",
        "\n",
        "df_resultados_finais = df_comparacao[colunas_mostrar].sort_values(\n",
        "    by=\"mean_test_f1\", ascending=False)"
      ],
      "metadata": {
        "colab": {
          "base_uri": "https://localhost:8080/"
        },
        "id": "u6nJlX8Fasqg",
        "outputId": "cad76621-c6d4-4b67-d4b1-5d74dcbf96b9"
      },
      "execution_count": 30,
      "outputs": [
        {
          "output_type": "stream",
          "name": "stdout",
          "text": [
            "\n",
            "🔍 Treinando modelo: XGBoost\n",
            "Fitting 5 folds for each of 8 candidates, totalling 40 fits\n",
            "✅ Melhor F1 (XGBoost): 0.7271\n",
            "Melhores parâmetros: {'model__learning_rate': 0.1, 'model__max_depth': 6, 'model__n_estimators': 100}\n",
            "\n",
            "🔍 Treinando modelo: RandomForest\n",
            "Fitting 5 folds for each of 4 candidates, totalling 20 fits\n",
            "✅ Melhor F1 (RandomForest): 0.6984\n",
            "Melhores parâmetros: {'model__max_depth': 6, 'model__n_estimators': 100}\n",
            "\n",
            "🔍 Treinando modelo: ExtraTrees\n",
            "Fitting 5 folds for each of 4 candidates, totalling 20 fits\n",
            "✅ Melhor F1 (ExtraTrees): 0.6484\n",
            "Melhores parâmetros: {'model__max_depth': 6, 'model__n_estimators': 100}\n",
            "\n",
            "🔍 Treinando modelo: NuSVC\n",
            "Fitting 5 folds for each of 6 candidates, totalling 30 fits\n",
            "✅ Melhor F1 (NuSVC): 0.7316\n",
            "Melhores parâmetros: {'model__kernel': 'rbf', 'model__nu': 0.5}\n"
          ]
        }
      ]
    },
    {
      "cell_type": "markdown",
      "source": [
        "# Melhor modelo"
      ],
      "metadata": {
        "id": "b5jvHtEFbciT"
      }
    },
    {
      "cell_type": "code",
      "execution_count": 32,
      "metadata": {
        "colab": {
          "base_uri": "https://localhost:8080/"
        },
        "id": "0J0-ZT6u-4PY",
        "outputId": "a3452aa1-f995-4549-d1c0-2c2ee21ace32"
      },
      "outputs": [
        {
          "output_type": "stream",
          "name": "stdout",
          "text": [
            "🔍 Resultados médios na validação cruzada:\n",
            "accuracy  : 0.7316 ± 0.0199\n",
            "precision : 0.7349 ± 0.0223\n",
            "recall    : 0.7438 ± 0.0209\n",
            "f1        : 0.7392 ± 0.0188\n",
            "roc_auc   : 0.8027 ± 0.0242\n"
          ]
        }
      ],
      "source": [
        "from sklearn.ensemble import ExtraTreesClassifier\n",
        "from sklearn.preprocessing import StandardScaler\n",
        "from sklearn.pipeline import Pipeline\n",
        "from sklearn.model_selection import cross_validate, StratifiedKFold\n",
        "import numpy as np\n",
        "\n",
        "# Pipeline com scaler + modelo\n",
        "pipeline = Pipeline([\n",
        "    (\"scaler\", StandardScaler()),\n",
        "    (\"model\", ExtraTreesClassifier(random_state=42))\n",
        "])\n",
        "\n",
        "# Estratégia de validação cruzada\n",
        "cv = StratifiedKFold(n_splits=10, shuffle=True, random_state=42)\n",
        "\n",
        "# Avaliar o modelo usando cross_validate com múltiplas métricas\n",
        "resultados = cross_validate(\n",
        "    pipeline,\n",
        "    X, y,\n",
        "    cv=cv,\n",
        "    scoring=['accuracy', 'precision', 'recall', 'f1', 'roc_auc'],\n",
        "    return_train_score=True\n",
        ")\n",
        "\n",
        "# Mostrar métricas médias\n",
        "print(\"🔍 Resultados médios na validação cruzada:\")\n",
        "for metric in ['accuracy', 'precision', 'recall', 'f1', 'roc_auc']:\n",
        "    mean = resultados[f'test_{metric}'].mean()\n",
        "    std = resultados[f'test_{metric}'].std()\n",
        "    print(f\"{metric:<10}: {mean:.4f} ± {std:.4f}\")\n"
      ]
    },
    {
      "cell_type": "markdown",
      "metadata": {
        "id": "fmQeiA0TXCpT"
      },
      "source": [
        "# Conclusão"
      ]
    },
    {
      "cell_type": "markdown",
      "metadata": {
        "id": "E3MnKjmxXEP0"
      },
      "source": [
        "Os resultados obtidos por meio da validação cruzada demonstram um desempenho consistente e satisfatório do modelo avaliado. A acurácia média de 73,16% indica uma boa capacidade global de classificação, enquanto os valores de precisão (73,49%) e revocação (74,38%) apontam para um desempenho equilibrado entre a correta identificação das classes positivas e a minimização de falsos positivos.\n",
        "\n",
        "O F1-score médio de 0,7392 reforça essa harmonia entre precisão e revocação, sendo particularmente relevante em contextos onde o balanceamento entre essas métricas é crítico. Além disso, o AUC-ROC médio de 0,8027 revela uma adequada capacidade discriminativa do modelo, evidenciando sua eficácia na diferenciação entre as classes.\n",
        "\n",
        "Os baixos desvios padrão observados entre os folds da validação cruzada sugerem estabilidade e robustez no comportamento do modelo, o que é desejável para aplicações em ambientes com variabilidade nos dados. Tais resultados indicam que o modelo está bem ajustado ao problema proposto, apresentando potencial para ser utilizado em contextos práticos ou como base para iterações adicionais no pipeline de modelagem."
      ]
    },
    {
      "cell_type": "markdown",
      "source": [
        "# Conclusion"
      ],
      "metadata": {
        "id": "1fDFwLNNtSIM"
      }
    },
    {
      "cell_type": "markdown",
      "source": [
        "The results obtained through cross-validation demonstrate a consistent and satisfactory performance of the evaluated model. The mean accuracy of 73.16% indicates good overall classification capability, while the precision (73.49%) and recall (74.38%) values reflect a balanced performance in correctly identifying positive instances and minimizing false positives.\n",
        "\n",
        "The mean F1-score of 0.7392 further supports this balance between precision and recall, which is particularly important in scenarios where both metrics are critical. Additionally, the mean AUC-ROC of 0.8027 highlights the model’s ability to effectively discriminate between classes.\n",
        "\n",
        "The low standard deviations observed across cross-validation folds suggest that the model exhibits stable and robust behavior, which is desirable for applications involving data variability. These results indicate that the model is well-suited to the problem at hand and may serve as a reliable solution in practical settings or as a foundation for further optimization within the modeling pipeline."
      ],
      "metadata": {
        "id": "aj6w9D9YtX9Y"
      }
    }
  ],
  "metadata": {
    "colab": {
      "provenance": []
    },
    "kernelspec": {
      "display_name": "Python 3",
      "name": "python3"
    },
    "language_info": {
      "name": "python"
    }
  },
  "nbformat": 4,
  "nbformat_minor": 0
}