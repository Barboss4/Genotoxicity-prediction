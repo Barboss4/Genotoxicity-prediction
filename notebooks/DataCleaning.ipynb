{
  "nbformat": 4,
  "nbformat_minor": 0,
  "metadata": {
    "colab": {
      "provenance": []
    },
    "kernelspec": {
      "name": "python3",
      "display_name": "Python 3"
    },
    "language_info": {
      "name": "python"
    }
  },
  "cells": [
    {
      "cell_type": "code",
      "execution_count": null,
      "metadata": {
        "id": "Vks3MFXtWfAn"
      },
      "outputs": [],
      "source": [
        "!pip uninstall -y numpy\n",
        "!pip install numpy==1.26.4 --no-cache-dir --force-reinstall\n",
        "import os\n",
        "os.kill(os.getpid(), 9)  # Isso reinicia o kernel do Colab\n"
      ]
    },
    {
      "cell_type": "code",
      "source": [
        "!pip install rdkit-pypi\n"
      ],
      "metadata": {
        "id": "WCX8JdSpWmr7"
      },
      "execution_count": null,
      "outputs": []
    },
    {
      "cell_type": "markdown",
      "source": [
        "# Dataset conjunto"
      ],
      "metadata": {
        "id": "gR2y7-cAXdS-"
      }
    },
    {
      "cell_type": "code",
      "source": [
        "import pandas as pd\n",
        "\n",
        "df = pd.read_csv('/content/Dataset Both.csv')\n",
        "df.shape"
      ],
      "metadata": {
        "id": "XFr4Ny25WoF-"
      },
      "execution_count": null,
      "outputs": []
    },
    {
      "cell_type": "code",
      "source": [
        "from rdkit import Chem\n",
        "\n",
        "def smiles_valido(smiles):\n",
        "    \"\"\"\n",
        "    Verifica se um SMILES é válido.\n",
        "\n",
        "    Parâmetros:\n",
        "        smiles (str): String do SMILES.\n",
        "\n",
        "    Retorna:\n",
        "        bool: True se o SMILES é válido, False caso contrário.\n",
        "    \"\"\"\n",
        "    if not isinstance(smiles, str) or smiles.strip() == \"\":\n",
        "        return False\n",
        "    try:\n",
        "        mol = Chem.MolFromSmiles(smiles)\n",
        "        return mol is not None\n",
        "    except:\n",
        "        return False\n"
      ],
      "metadata": {
        "id": "emhfZZanWpgx"
      },
      "execution_count": null,
      "outputs": []
    },
    {
      "cell_type": "code",
      "source": [
        "df['SMILES_valido'] = df['SMILES'].apply(smiles_valido)\n",
        "df['SMILES_valido'].value_counts()"
      ],
      "metadata": {
        "id": "huqqQ6qmWrFB"
      },
      "execution_count": null,
      "outputs": []
    },
    {
      "cell_type": "code",
      "source": [
        "df.drop(columns=['Chemical', 'Identificador', 'SMILES_valido'], inplace=True)\n",
        "df.shape"
      ],
      "metadata": {
        "id": "7lOqii_FWsTq"
      },
      "execution_count": null,
      "outputs": []
    },
    {
      "cell_type": "code",
      "source": [
        "df.drop_duplicates(inplace=True)\n",
        "df.head()\n",
        "df.shape"
      ],
      "metadata": {
        "id": "m-GgPm7xWtfc"
      },
      "execution_count": null,
      "outputs": []
    },
    {
      "cell_type": "code",
      "source": [
        "df['Results'] = df['Results'].str.lower()\n",
        "df['Type'] = df['Type'].str.lower()"
      ],
      "metadata": {
        "id": "otFIkJF3WvAA"
      },
      "execution_count": null,
      "outputs": []
    },
    {
      "cell_type": "code",
      "source": [
        "df.drop_duplicates(inplace=True)\n",
        "df.shape"
      ],
      "metadata": {
        "id": "tiLjBqmpWwJ0"
      },
      "execution_count": null,
      "outputs": []
    },
    {
      "cell_type": "code",
      "source": [
        "# Mapear os valores para 1 (positivos) e 0 (negativos)\n",
        "mapping = {\"positive\": 1, \"negative\": 0, \"ambiguous\": None, \"inconclusive\": None}\n",
        "df[\"Results\"] = df[\"Results\"].map(mapping)\n",
        "\n",
        "# Remover valores nulos\n",
        "df = df.dropna()"
      ],
      "metadata": {
        "id": "n_jW-ei1WxtS"
      },
      "execution_count": null,
      "outputs": []
    },
    {
      "cell_type": "code",
      "source": [
        "df.shape"
      ],
      "metadata": {
        "id": "arq4PgMiWz2H"
      },
      "execution_count": null,
      "outputs": []
    },
    {
      "cell_type": "code",
      "source": [
        "# --- Passo 1 ---\n",
        "# Para cada SMILES, identificar quais possuem mais de um tipo\n",
        "smiles_mult_type = df.groupby(\"SMILES\")[\"Type\"].nunique()\n",
        "smiles_mult_type = smiles_mult_type[smiles_mult_type > 1].index\n",
        "\n",
        "# Para os SMILES que possuem mais de um 'Type', manter somente as linhas onde 'Type' é 'in vivo'\n",
        "df_filtrado = df[~(df[\"SMILES\"].isin(smiles_mult_type) & (df[\"Type\"] != \"in vivo\"))]\n",
        "\n",
        "# Remover duplicatas, se existirem\n",
        "df_filtrado = df_filtrado.drop_duplicates()"
      ],
      "metadata": {
        "id": "YOIt_XpHW1tm"
      },
      "execution_count": null,
      "outputs": []
    },
    {
      "cell_type": "code",
      "source": [
        "df_filtrado.shape"
      ],
      "metadata": {
        "id": "Bd0NhdAIW1rw"
      },
      "execution_count": null,
      "outputs": []
    },
    {
      "cell_type": "code",
      "source": [
        "# --- Passo 2 ---\n",
        "# Agora, identificar quais SMILES (no df filtrado) possuem mais de um 'Results'\n",
        "smiles_mult_result = df_filtrado.groupby(\"SMILES\")[\"Results\"].nunique()\n",
        "smiles_mult_result = smiles_mult_result[smiles_mult_result > 1].index\n",
        "\n",
        "# Remover os SMILES que possuem mais de um resultado\n",
        "df_final = df_filtrado[~df_filtrado[\"SMILES\"].isin(smiles_mult_result)]"
      ],
      "metadata": {
        "id": "XxzWcsOlW6g9"
      },
      "execution_count": null,
      "outputs": []
    },
    {
      "cell_type": "code",
      "source": [
        "df_final['Results'].value_counts()"
      ],
      "metadata": {
        "id": "6vD6Xys6W7_J"
      },
      "execution_count": null,
      "outputs": []
    },
    {
      "cell_type": "code",
      "source": [
        "df_final = df_final.drop(columns='Type')"
      ],
      "metadata": {
        "id": "qoEek9RhW9UN"
      },
      "execution_count": null,
      "outputs": []
    },
    {
      "cell_type": "code",
      "source": [
        "df_final.to_csv('df_final.csv', index=False)"
      ],
      "metadata": {
        "id": "xGs8mdduW-1p"
      },
      "execution_count": null,
      "outputs": []
    },
    {
      "cell_type": "markdown",
      "source": [
        "# Dataset Vivo"
      ],
      "metadata": {
        "id": "B7BXgpd6XcRy"
      }
    },
    {
      "cell_type": "code",
      "source": [
        "df_vivo= pd.read_csv('/content/Dataset in Vivo.csv')\n",
        "df_vivo.shape"
      ],
      "metadata": {
        "id": "b377egiJXnGx"
      },
      "execution_count": null,
      "outputs": []
    },
    {
      "cell_type": "code",
      "source": [
        "# Mapear os valores para 1 (positivos) e 0 (negativos)\n",
        "mapping = {\"positive\": 1, \"negative\": 0, \"ambiguous\": None, \"inconclusive\": None}\n",
        "df_vivo[\"Results\"] = df_vivo[\"Results\"].map(mapping)\n",
        "\n",
        "# Remover valores nulos\n",
        "df_vivo = df_vivo.dropna()\n",
        "df.shape"
      ],
      "metadata": {
        "id": "VPp7QGK-jODU"
      },
      "execution_count": null,
      "outputs": []
    },
    {
      "cell_type": "code",
      "source": [
        "# Agora, identificar quais SMILES (no df filtrado) possuem mais de um 'Results'\n",
        "smiles_mult_result = df_vivo.groupby(\"SMILES\")[\"Results\"].nunique()\n",
        "smiles_mult_result = smiles_mult_result[smiles_mult_result > 1].index\n",
        "\n",
        "# Remover os SMILES que possuem mais de um resultado\n",
        "df_final_vivo = df_vivo[~df_vivo[\"SMILES\"].isin(smiles_mult_result)]\n",
        "df_final_vivo.shape"
      ],
      "metadata": {
        "id": "DhSS5lmejSN8"
      },
      "execution_count": null,
      "outputs": []
    },
    {
      "cell_type": "code",
      "source": [
        "df_final_vivo.to_csv('df_final_vivo.csv', index=False)"
      ],
      "metadata": {
        "id": "sANWUVx2jVGp"
      },
      "execution_count": null,
      "outputs": []
    },
    {
      "cell_type": "markdown",
      "source": [
        "# Dataset Vitro"
      ],
      "metadata": {
        "id": "Hr6bTWDHXkya"
      }
    },
    {
      "cell_type": "code",
      "source": [
        "df_vitro= pd.read_csv('/content/Dataset in vitro.csv')\n",
        "df.shape"
      ],
      "metadata": {
        "id": "ZurEEEijXneZ"
      },
      "execution_count": null,
      "outputs": []
    },
    {
      "cell_type": "code",
      "source": [
        "df_vitro.drop(columns= ['Chemical','Identificador'],inplace=True)\n",
        "df_vitro['Results'] = df_vitro['Results'].str.lower()"
      ],
      "metadata": {
        "id": "KiXstr_Tl0vN"
      },
      "execution_count": null,
      "outputs": []
    },
    {
      "cell_type": "code",
      "source": [
        "# Mapear os valores para 1 (positivos) e 0 (negativos)\n",
        "mapping = {\"positive\": 1, \"negative\": 0, \"ambiguous\": None, \"inconclusive\": None}\n",
        "df_vitro[\"Results\"] = df_vitro[\"Results\"].map(mapping)\n",
        "\n",
        "# Remover valores nulos\n",
        "df_vitro = df_vitro.dropna()\n",
        "df_vitro.shape"
      ],
      "metadata": {
        "id": "W4Uc8ZzNl2fj"
      },
      "execution_count": null,
      "outputs": []
    },
    {
      "cell_type": "code",
      "source": [
        "# Agora, identificar quais SMILES (no df filtrado) possuem mais de um 'Results'\n",
        "smiles_mult_result = df_vitro.groupby(\"SMILES\")[\"Results\"].nunique()\n",
        "smiles_mult_result = smiles_mult_result[smiles_mult_result > 1].index\n",
        "\n",
        "# Remover os SMILES que possuem mais de um resultado\n",
        "df_final_vitro = df_vitro[~df_vitro[\"SMILES\"].isin(smiles_mult_result)]\n",
        "df_final_vitro.shape"
      ],
      "metadata": {
        "id": "2nGwp1e2l4gf"
      },
      "execution_count": null,
      "outputs": []
    },
    {
      "cell_type": "code",
      "source": [
        "df_final_vitro.to_csv('df_final_vitro.csv', index=False)"
      ],
      "metadata": {
        "id": "wj3jcEYMl7AU"
      },
      "execution_count": null,
      "outputs": []
    }
  ]
}