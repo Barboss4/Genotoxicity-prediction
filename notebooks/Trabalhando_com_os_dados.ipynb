{
  "nbformat": 4,
  "nbformat_minor": 0,
  "metadata": {
    "colab": {
      "provenance": []
    },
    "kernelspec": {
      "name": "python3",
      "display_name": "Python 3"
    },
    "language_info": {
      "name": "python"
    }
  },
  "cells": [
    {
      "cell_type": "code",
      "source": [
        "import pandas as pd\n",
        "import time\n",
        "import re\n",
        "from tqdm import tqdm\n",
        "import pubchempy as pcp\n",
        "tqdm.pandas()"
      ],
      "metadata": {
        "id": "AIxNSVVd7o3b"
      },
      "execution_count": null,
      "outputs": []
    },
    {
      "cell_type": "markdown",
      "source": [
        "# Funções"
      ],
      "metadata": {
        "id": "2sxhCe2hWiXk"
      }
    },
    {
      "cell_type": "code",
      "source": [
        "def obter_smiles_cas(row, col_cas='CASRN'):\n",
        "    try:\n",
        "        cas_number = row[col_cas]\n",
        "        if pd.isna(cas_number) or not isinstance(cas_number, str):\n",
        "            return \"Valor inválido\"\n",
        "        cas_number = cas_number.strip().replace(\" \", \"\").replace(\"\\n\", \"\").replace(\"\\r\", \"\")\n",
        "        if not cas_number.replace(\"-\", \"\").isdigit():\n",
        "            return \"Formato inválido\"\n",
        "        print(f\"Buscando SMILES para CAS: '{cas_number}'\")\n",
        "        time.sleep(0.5)\n",
        "        composto = pcp.get_compounds(cas_number, 'name')\n",
        "        return composto[0].canonical_smiles if composto else None\n",
        "    except pcp.PubChemHTTPError as e:\n",
        "        print(f\"Erro HTTP ao buscar SMILES para CAS {cas_number}: {e}\")\n",
        "        return \"Erro HTTP\"\n",
        "    except Exception as e:\n",
        "        print(f\"Erro inesperado para CAS {cas_number}: {e}\")\n",
        "        return \"Erro desconhecido\""
      ],
      "metadata": {
        "id": "aZJTwKdVWkIe"
      },
      "execution_count": null,
      "outputs": []
    },
    {
      "cell_type": "code",
      "source": [
        "def corrigir_cas(cas_number):\n",
        "    if pd.isna(cas_number) or not isinstance(cas_number, str):\n",
        "        return None\n",
        "    cas_number = cas_number.strip().replace(\" \", \"\").replace(\"\\n\", \"\").replace(\"\\r\", \"\")\n",
        "    if cas_number.startswith(\"-\"):\n",
        "        return None\n",
        "    if re.match(r\"^\\d{2,7}-\\d{2}-\\d$\", cas_number):\n",
        "        return cas_number\n",
        "    if cas_number.isdigit():\n",
        "        length = len(cas_number)\n",
        "        if length > 3:\n",
        "            formatted_cas = f\"{cas_number[:-3]}-{cas_number[-3:-1]}-{cas_number[-1]}\"\n",
        "            if re.match(r\"^\\d{2,7}-\\d{2}-\\d$\", formatted_cas):\n",
        "                return formatted_cas\n",
        "    return None\n"
      ],
      "metadata": {
        "id": "34Zy4u_5Wndj"
      },
      "execution_count": null,
      "outputs": []
    },
    {
      "cell_type": "code",
      "source": [
        "# Define uma função para aplicar a lógica desejada\n",
        "def definir_opiniao(grupo):\n",
        "    if 'Active' in grupo.values:\n",
        "        return '+'\n",
        "    elif 'Inactive' in grupo.values:\n",
        "        return '-'\n",
        "    else:\n",
        "        return '0'"
      ],
      "metadata": {
        "id": "qEUVHFavWrK9"
      },
      "execution_count": null,
      "outputs": []
    },
    {
      "cell_type": "code",
      "source": [
        "def obter_nome(row, col_cid='PUBCHEM_CID'):\n",
        "    try:\n",
        "        # Busca o composto pelo CID fornecido na coluna especificada\n",
        "        composto = pcp.Compound.from_cid(row[col_cid])\n",
        "        # Retorna o nome IUPAC do composto se encontrado, ou None\n",
        "        return composto.iupac_name if composto else None\n",
        "    except Exception as e:\n",
        "        print(f\"Erro ao buscar nome para CID {row[col_cid]}: {e}\")\n",
        "        return None"
      ],
      "metadata": {
        "id": "EUwT15ZqWvSb"
      },
      "execution_count": null,
      "outputs": []
    },
    {
      "cell_type": "code",
      "source": [
        "def obter_cas(row, col_nome='name'):\n",
        "    try:\n",
        "        # Busca o composto pelo nome\n",
        "        composto = pcp.get_compounds(row[col_nome], 'name')\n",
        "        if composto:\n",
        "            # Retorna o CAS Number do primeiro composto encontrado, se existir\n",
        "            propriedades = composto[0].to_dict(properties=['xlogp', 'iupac_name', 'molecular_weight', 'synonyms'])\n",
        "            cas_numbers = [sinonimo for sinonimo in propriedades['synonyms'] if '-' in sinonimo and sinonimo.replace('-', '').isdigit()]\n",
        "            return cas_numbers[0] if cas_numbers else None\n",
        "        else:\n",
        "            return None\n",
        "    except Exception as e:\n",
        "        print(f\"Erro ao buscar CAS Number para {row[col_nome]}: {e}\")\n",
        "        return None"
      ],
      "metadata": {
        "id": "6QhrugTYW0vA"
      },
      "execution_count": null,
      "outputs": []
    },
    {
      "cell_type": "markdown",
      "source": [
        "# ECHA"
      ],
      "metadata": {
        "id": "raUio7O03TFq"
      }
    },
    {
      "cell_type": "code",
      "source": [
        "# Carregamento do arquivo CSV\n",
        "path = '/content/ECHA .xlsx - Genotox data.csv'\n",
        "df1 = pd.read_csv(path)\n",
        "\n",
        "# Remoção de colunas desnecessárias\n",
        "df1.drop(columns=[\n",
        "    'SUB_ECSUBINVENTENTRYREF', 'SUB_TYPE', 'QUALIFIER',\n",
        "    'COM_NAME', 'COM_ECSUBINVENTENTRYREF', 'COM_CASNUMBER',\n",
        "    'COM_STRUCTURESHOWN'\n",
        "], inplace=True)\n",
        "\n",
        "# Supondo que você tenha essa função para processar a coluna 'Strain/Sex'\n",
        "df1 = split_strain_sex(df1, 'Strain/Sex')\n"
      ],
      "metadata": {
        "id": "cbNH-02r3ZAK"
      },
      "execution_count": null,
      "outputs": []
    },
    {
      "cell_type": "code",
      "source": [
        "df1['SMILES'] = df1.progress_apply(obter_smiles_cas, axis=1)"
      ],
      "metadata": {
        "id": "UT_IDMTg3fnl"
      },
      "execution_count": null,
      "outputs": []
    },
    {
      "cell_type": "code",
      "source": [
        "# Aqui copiamos para trabalhar nos inválidos\n",
        "df2_nan_smiles = df1.copy()\n",
        "df2_nan_smiles[\"CAS No.\"] = df2_nan_smiles[\"CAS No.\"].apply(corrigir_cas)\n",
        "df2_validos = df2_nan_smiles[df2_nan_smiles[\"CAS No.\"].notna()]\n"
      ],
      "metadata": {
        "id": "NVm7OsbiCOPO"
      },
      "execution_count": null,
      "outputs": []
    },
    {
      "cell_type": "code",
      "source": [
        "df2 = df1.copy()  # supondo que df2 é o dataframe com SMILES de df1, ou pode ser outro\n",
        "\n",
        "df_validos = df2[\n",
        "    (~df2['SMILES'].isna()) &\n",
        "    (df2['SMILES'] != \"Formato inválido\") &\n",
        "    (df2['SMILES'] != \"Valor inválido\")\n",
        "]\n"
      ],
      "metadata": {
        "id": "pwxuRS7R2Rm1"
      },
      "execution_count": null,
      "outputs": []
    },
    {
      "cell_type": "code",
      "source": [
        "df_final = pd.concat([df1, df2], ignore_index=True)\n",
        "\n",
        "# Garantir que SMILES é string\n",
        "df_final[\"SMILES\"] = df_final[\"SMILES\"].astype(str)\n",
        "\n",
        "# Remover duplicatas mantendo as com SMILES mais informativos\n",
        "df_final = df_final.sort_values(by=\"SMILES\", ascending=False).drop_duplicates(\n",
        "    subset=[\"Chemical\", \"CAS No.\"], keep=\"first\"\n",
        ")\n",
        "\n",
        "# Ordenar e resetar o índice\n",
        "df_final_1 = df_final.sort_values(by=\"Chemical\", ascending=True).reset_index(drop=True)\n"
      ],
      "metadata": {
        "id": "32HPRU2-2T_r"
      },
      "execution_count": null,
      "outputs": []
    },
    {
      "cell_type": "markdown",
      "source": [
        "# CCRIS"
      ],
      "metadata": {
        "id": "2i8n-u0JQJUy"
      }
    },
    {
      "cell_type": "code",
      "source": [
        "import pandas as pd\n",
        "import pubchempy as pcp\n",
        "from tqdm import tqdm"
      ],
      "metadata": {
        "id": "IOvf4Jf3QPPJ"
      },
      "execution_count": null,
      "outputs": []
    },
    {
      "cell_type": "code",
      "source": [
        "# Suponha que o seu DataFrame se chama df e possui uma coluna chamada 'nome'\n",
        "path = '/content/CCRIS dataset.csv'\n",
        "\n",
        "df2 = pd.read_csv(path)"
      ],
      "metadata": {
        "id": "2xjI2vQkQYw-"
      },
      "execution_count": null,
      "outputs": []
    },
    {
      "cell_type": "code",
      "source": [
        "df2 = df[['PUBCHEM_EXT_DATASOURCE_SMILES', 'PUBCHEM_CID', 'PUBCHEM_ACTIVITY_OUTCOME']]"
      ],
      "metadata": {
        "id": "N4FD0ODLQjND"
      },
      "execution_count": null,
      "outputs": []
    },
    {
      "cell_type": "code",
      "source": [
        "df2 = df2.dropna()"
      ],
      "metadata": {
        "id": "kcT1OvFSQ8U6"
      },
      "execution_count": null,
      "outputs": []
    },
    {
      "cell_type": "code",
      "source": [
        "df2 = df2.groupby(['PUBCHEM_CID', 'PUBCHEM_EXT_DATASOURCE_SMILES'], as_index=False)['PUBCHEM_ACTIVITY_OUTCOME'].apply(definir_opiniao)"
      ],
      "metadata": {
        "id": "tyfxPx_JR5-i"
      },
      "execution_count": null,
      "outputs": []
    },
    {
      "cell_type": "code",
      "source": [
        "# Convertendo a coluna de float para int\n",
        "df2['PUBCHEM_CID'] = df2['PUBCHEM_CID'].astype(int)"
      ],
      "metadata": {
        "id": "dBj3hRk0Uw4P"
      },
      "execution_count": null,
      "outputs": []
    },
    {
      "cell_type": "code",
      "source": [
        "# Aplica a função para cada nome no DataFrame e cria uma nova coluna com o SMILES\n",
        "df2['name'] = df2.progress_apply(obter_nome, axis=1)"
      ],
      "metadata": {
        "id": "Cd-8MlzFUI1h"
      },
      "execution_count": null,
      "outputs": []
    },
    {
      "cell_type": "code",
      "source": [
        "# Ordenar e resetar o índice\n",
        "df_final_2 = df2.sort_values(by=\"Chemical\", ascending=True).reset_index(drop=True)"
      ],
      "metadata": {
        "id": "nU6dqPdo3Ana"
      },
      "execution_count": null,
      "outputs": []
    },
    {
      "cell_type": "markdown",
      "source": [
        "# ECVAM\n"
      ],
      "metadata": {
        "id": "qgwbE8AM4NOl"
      }
    },
    {
      "cell_type": "code",
      "source": [
        "# Suponha que o seu DataFrame se chama df e possui uma coluna chamada 'nome'\n",
        "pathA = '/content/ECVAM_Ames_negative_DB.csv'\n",
        "pathB = '/content/ECVAM_Ames_positives_DB.csv'\n",
        "\n",
        "df3A = pd.read_excel(pathA)\n",
        "df3B = pd.read_excel(pathB)"
      ],
      "metadata": {
        "id": "2ygQ5rVFS_vU"
      },
      "execution_count": null,
      "outputs": []
    },
    {
      "cell_type": "code",
      "source": [
        "# Seleciona apenas as colunas desejadas (verifica se existem nas duas tabelas)\n",
        "colunas_desejadas = ['Chemical', 'CAS No.', 'Ames Overall ']\n",
        "\n",
        "# Filtra as colunas e concatena os DataFrames\n",
        "df3 = pd.concat([\n",
        "    df3A[colunas_desejadas],\n",
        "    df3B[colunas_desejadas]\n",
        "], ignore_index=True)\n",
        "\n",
        "# (Opcional) Remove duplicatas, se quiser evitar repetições\n",
        "df3 = df3.drop_duplicates()"
      ],
      "metadata": {
        "id": "-_Q328hq4FKH"
      },
      "execution_count": null,
      "outputs": []
    },
    {
      "cell_type": "code",
      "source": [
        "# Aplica a função para cada nome no DataFrame e cria uma nova coluna com o SMILES\n",
        "df3['SMILES'] = df3.progress_apply(obter_smiles, axis=1)"
      ],
      "metadata": {
        "id": "g8srTwVRTLjv"
      },
      "execution_count": null,
      "outputs": []
    },
    {
      "cell_type": "code",
      "source": [
        "df_final_3 = df3.copy()"
      ],
      "metadata": {
        "id": "jXcJ6A0xaSOi"
      },
      "execution_count": null,
      "outputs": []
    },
    {
      "cell_type": "markdown",
      "source": [
        "# Genetox"
      ],
      "metadata": {
        "id": "8OuMKX6Lmpfi"
      }
    },
    {
      "cell_type": "code",
      "source": [
        "path = '/content/GENE-TOX dataset.csv'\n",
        "\n",
        "df4 = pd.read_csv(path)"
      ],
      "metadata": {
        "id": "Zx9ohsYkm2gE"
      },
      "execution_count": null,
      "outputs": []
    },
    {
      "cell_type": "code",
      "source": [
        "df4_ = df4[['PUBCHEM_CID', 'PUBCHEM_EXT_DATASOURCE_SMILES', 'PUBCHEM_ACTIVITY_OUTCOME' ]]"
      ],
      "metadata": {
        "id": "exagUS-wm-j6"
      },
      "execution_count": null,
      "outputs": []
    },
    {
      "cell_type": "code",
      "source": [
        "df4_.isnull().sum()"
      ],
      "metadata": {
        "id": "IDw3SWLSEZPW"
      },
      "execution_count": null,
      "outputs": []
    },
    {
      "cell_type": "code",
      "source": [
        "# Preenchendo valores NaN de duas colunas específicas\n",
        "df4_[['PUBCHEM_CID', 'PUBCHEM_EXT_DATASOURCE_SMILES']] = df4_[['PUBCHEM_CID', 'PUBCHEM_EXT_DATASOURCE_SMILES']].fillna('None')"
      ],
      "metadata": {
        "id": "DZQqYJKGn_KX"
      },
      "execution_count": null,
      "outputs": []
    },
    {
      "cell_type": "code",
      "source": [
        "df4_ = df4_.dropna()"
      ],
      "metadata": {
        "id": "zmL4FUnGnlEW"
      },
      "execution_count": null,
      "outputs": []
    },
    {
      "cell_type": "code",
      "source": [
        "df4_[['PUBCHEM_CID']] = df4_[['PUBCHEM_CID']].astype(int)"
      ],
      "metadata": {
        "id": "PjetsUHKnV8b"
      },
      "execution_count": null,
      "outputs": []
    },
    {
      "cell_type": "code",
      "source": [
        "df4_ = df4_.groupby(['PUBCHEM_CID', 'PUBCHEM_EXT_DATASOURCE_SMILES'], as_index=False)['PUBCHEM_ACTIVITY_OUTCOME'].apply(definir_opiniao)"
      ],
      "metadata": {
        "id": "a1Lzh4gZnsfF"
      },
      "execution_count": null,
      "outputs": []
    },
    {
      "cell_type": "code",
      "source": [
        "df4_ = df4_[df4_['PUBCHEM_ACTIVITY_OUTCOME'] != '0']"
      ],
      "metadata": {
        "id": "qNXPRxpuFi9G"
      },
      "execution_count": null,
      "outputs": []
    },
    {
      "cell_type": "code",
      "source": [
        "# Aplica a função para cada nome no DataFrame e cria uma nova coluna com o SMILES\n",
        "df4_['name'] = df4_.progress_apply(obter_nome, axis=1)"
      ],
      "metadata": {
        "id": "jaaXGiOSpCYr"
      },
      "execution_count": null,
      "outputs": []
    },
    {
      "cell_type": "code",
      "source": [
        "# Aplica a função apenas nas linhas onde 'name' está nulo\n",
        "df4_.loc[df4_['CAS'].isnull(), 'CAS'] = df4_[df4_['CAS'].isnull()].progress_apply(obter_cas, axis=1)"
      ],
      "metadata": {
        "id": "z8Y1vnKXNOex"
      },
      "execution_count": null,
      "outputs": []
    },
    {
      "cell_type": "code",
      "source": [
        "df4_['CAS'] = df4_.progress_apply(obter_cas, axis=1)"
      ],
      "metadata": {
        "id": "dcTwa0JOMdj5"
      },
      "execution_count": null,
      "outputs": []
    },
    {
      "cell_type": "code",
      "source": [
        "df_final_4 = df4_.copy()"
      ],
      "metadata": {
        "id": "QbsxOOjrUvp3"
      },
      "execution_count": null,
      "outputs": []
    },
    {
      "cell_type": "markdown",
      "source": [
        "# IRIS"
      ],
      "metadata": {
        "id": "eS6SzbQL4vQg"
      }
    },
    {
      "cell_type": "code",
      "source": [
        "path = '/content/Integrated Risk Information System.xlsx - simple_list_alpha.csv'\n",
        "\n",
        "df5 = pd.read_csv(path)"
      ],
      "metadata": {
        "id": "n1Sg2AT44xGk"
      },
      "execution_count": null,
      "outputs": []
    },
    {
      "cell_type": "code",
      "source": [
        "df5_ = df5['Chemical Name', 'CASRN' , 'Critical Effect Systems'].copy()"
      ],
      "metadata": {
        "id": "J08mAnQQVC3K"
      },
      "execution_count": null,
      "outputs": []
    },
    {
      "cell_type": "code",
      "source": [
        "# Criar a nova coluna 'results'\n",
        "df5_['results'] = df5_['Critical Effect Systems'].apply(\n",
        "    lambda x: 'negative' if pd.isna(x) or str(x).strip().lower() == 'none' else 'positive'\n",
        ")"
      ],
      "metadata": {
        "id": "1O8LXQF-Vq1j"
      },
      "execution_count": null,
      "outputs": []
    },
    {
      "cell_type": "code",
      "source": [
        "# Aplica a função para cada nome no DataFrame e cria uma nova coluna com o SMILES\n",
        "df5_['SMILES'] = df5_.progress_apply(obter_smiles, axis=1)"
      ],
      "metadata": {
        "id": "3dEbja4FWSwB"
      },
      "execution_count": null,
      "outputs": []
    },
    {
      "cell_type": "code",
      "source": [
        "df_final_5 = df5_.copy()"
      ],
      "metadata": {
        "id": "qItXUn7FWdgr"
      },
      "execution_count": null,
      "outputs": []
    },
    {
      "cell_type": "markdown",
      "source": [
        "# Agregando datasets"
      ],
      "metadata": {
        "id": "EFHH6KpZR9fn"
      }
    },
    {
      "cell_type": "code",
      "source": [
        "# Supondo que seus DataFrames sejam df1, df2, df3 e df4\n",
        "df_final = pd.concat([df_final_1, df_final_2, df_final_3, df_final_4, df_final_5], axis=0, ignore_index=True)"
      ],
      "metadata": {
        "id": "DV2u_n9WS2tg"
      },
      "execution_count": null,
      "outputs": []
    },
    {
      "cell_type": "code",
      "source": [
        "df_final.to_excel('/content/drive/MyDrive/DOC/Dados/carcinogenese/Dados_juntos_simplificado.xlsx', index=False)"
      ],
      "metadata": {
        "id": "Ly7kfW1kVkCj"
      },
      "execution_count": null,
      "outputs": []
    }
  ]
}